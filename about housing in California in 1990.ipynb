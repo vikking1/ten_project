{
 "cells": [
  {
   "cell_type": "markdown",
   "id": "GEqQaHzsZ_bA",
   "metadata": {
    "id": "GEqQaHzsZ_bA"
   },
   "source": [
    "## Предсказание стоимости жилья\n",
    "\n",
    "В проекте вам нужно обучить модель линейной регрессии на данных о жилье в Калифорнии в 1990 году. На основе данных нужно предсказать медианную стоимость дома в жилом массиве. Обучите модель и сделайте предсказания на тестовой выборке. Для оценки качества модели используйте метрики RMSE, MAE и R2."
   ]
  },
  {
   "cell_type": "markdown",
   "id": "53871372",
   "metadata": {
    "id": "53871372"
   },
   "source": [
    "## Подготовка данных"
   ]
  },
  {
   "cell_type": "code",
   "execution_count": 1,
   "id": "df92e3ec",
   "metadata": {
    "id": "df92e3ec"
   },
   "outputs": [],
   "source": [
    "# Подключение библиотек\n",
    "import pandas as pd \n",
    "import numpy as np\n",
    "\n",
    "import seaborn as sns\n",
    "import matplotlib.pyplot as plt\n",
    "\n",
    "import pyspark\n",
    "from pyspark.sql import SparkSession\n",
    "from pyspark.sql.types import *\n",
    "import pyspark.sql.functions as F\n",
    "\n",
    "from pyspark.ml.feature import StringIndexer, VectorAssembler, StandardScaler\n",
    "from pyspark.ml.stat import Correlation\n",
    "from pyspark.ml.feature import OneHotEncoder\n",
    "from pyspark.ml.regression import LinearRegression\n",
    "from pyspark.mllib.evaluation import RegressionMetrics\n",
    "\n",
    "#from pyspark.ml.tuning import CrossValidator\n",
    "#from pyspark.ml.evaluation import BinaryClassificationEvaluator\n",
    "\n",
    "RANDOM_SEED = 42\n",
    "pd.set_option('display.float_format', lambda x: '%.3f' % x)"
   ]
  },
  {
   "cell_type": "code",
   "execution_count": 2,
   "id": "44ef4585",
   "metadata": {},
   "outputs": [],
   "source": [
    "# Подключении к сесии Spark\n",
    "spark = SparkSession.builder \\\n",
    "                    .master(\"local\") \\\n",
    "                    .appName(\"California Housing\") \\\n",
    "                    .getOrCreate()"
   ]
  },
  {
   "cell_type": "code",
   "execution_count": 3,
   "id": "751bfb72",
   "metadata": {
    "scrolled": true
   },
   "outputs": [
    {
     "name": "stderr",
     "output_type": "stream",
     "text": [
      "                                                                                \r"
     ]
    }
   ],
   "source": [
    "# считывайние файла \n",
    "df = spark.read.option('header', 'true') \\\n",
    "    .csv('/datasets/housing.csv', inferSchema = True)"
   ]
  },
  {
   "cell_type": "code",
   "execution_count": 4,
   "id": "6146b74a",
   "metadata": {
    "scrolled": true
   },
   "outputs": [
    {
     "name": "stdout",
     "output_type": "stream",
     "text": [
      "root\n",
      " |-- longitude: double (nullable = true)\n",
      " |-- latitude: double (nullable = true)\n",
      " |-- housing_median_age: double (nullable = true)\n",
      " |-- total_rooms: double (nullable = true)\n",
      " |-- total_bedrooms: double (nullable = true)\n",
      " |-- population: double (nullable = true)\n",
      " |-- households: double (nullable = true)\n",
      " |-- median_income: double (nullable = true)\n",
      " |-- median_house_value: double (nullable = true)\n",
      " |-- ocean_proximity: string (nullable = true)\n",
      "\n"
     ]
    }
   ],
   "source": [
    "# Схема и тип данных в dataframe\n",
    "df.printSchema()"
   ]
  },
  {
   "cell_type": "markdown",
   "id": "20882e15",
   "metadata": {},
   "source": [
    "- longitude — широта;\n",
    "- latitude — долгота;\n",
    "- housing_median_age — медианный возраст жителей жилого массива;\n",
    "- total_rooms — общее количество комнат в домах жилого массива;\n",
    "- total_bedrooms — общее количество спален в домах жилого массива;\n",
    "- population — количество человек, которые проживают в жилом массиве;\n",
    "- households — количество домовладений в жилом массиве;\n",
    "- median_income — медианный доход жителей жилого массива;\n",
    "- median_house_value — медианная стоимость дома в жилом массиве;\n",
    "- ocean_proximity — близость к океану."
   ]
  },
  {
   "cell_type": "code",
   "execution_count": 5,
   "id": "84b21060",
   "metadata": {},
   "outputs": [
    {
     "name": "stderr",
     "output_type": "stream",
     "text": [
      "                                                                                \r"
     ]
    },
    {
     "name": "stdout",
     "output_type": "stream",
     "text": [
      "  ocean_proximity\n",
      "0          ISLAND\n",
      "1      NEAR OCEAN\n",
      "2        NEAR BAY\n",
      "3       <1H OCEAN\n",
      "4          INLAND\n"
     ]
    },
    {
     "name": "stderr",
     "output_type": "stream",
     "text": [
      "                                                                                \r"
     ]
    },
    {
     "data": {
      "text/html": [
       "<div>\n",
       "<style scoped>\n",
       "    .dataframe tbody tr th:only-of-type {\n",
       "        vertical-align: middle;\n",
       "    }\n",
       "\n",
       "    .dataframe tbody tr th {\n",
       "        vertical-align: top;\n",
       "    }\n",
       "\n",
       "    .dataframe thead th {\n",
       "        text-align: right;\n",
       "    }\n",
       "</style>\n",
       "<table border=\"1\" class=\"dataframe\">\n",
       "  <thead>\n",
       "    <tr style=\"text-align: right;\">\n",
       "      <th></th>\n",
       "      <th>ocean_proximity</th>\n",
       "      <th>count</th>\n",
       "    </tr>\n",
       "  </thead>\n",
       "  <tbody>\n",
       "    <tr>\n",
       "      <th>0</th>\n",
       "      <td>ISLAND</td>\n",
       "      <td>5</td>\n",
       "    </tr>\n",
       "    <tr>\n",
       "      <th>1</th>\n",
       "      <td>NEAR OCEAN</td>\n",
       "      <td>2658</td>\n",
       "    </tr>\n",
       "    <tr>\n",
       "      <th>2</th>\n",
       "      <td>NEAR BAY</td>\n",
       "      <td>2290</td>\n",
       "    </tr>\n",
       "    <tr>\n",
       "      <th>3</th>\n",
       "      <td>&lt;1H OCEAN</td>\n",
       "      <td>9136</td>\n",
       "    </tr>\n",
       "    <tr>\n",
       "      <th>4</th>\n",
       "      <td>INLAND</td>\n",
       "      <td>6551</td>\n",
       "    </tr>\n",
       "  </tbody>\n",
       "</table>\n",
       "</div>"
      ],
      "text/plain": [
       "  ocean_proximity  count\n",
       "0          ISLAND      5\n",
       "1      NEAR OCEAN   2658\n",
       "2        NEAR BAY   2290\n",
       "3       <1H OCEAN   9136\n",
       "4          INLAND   6551"
      ]
     },
     "metadata": {},
     "output_type": "display_data"
    },
    {
     "name": "stdout",
     "output_type": "stream",
     "text": [
      "+---------+--------+------------------+-----------+--------------+----------+----------+-------------+------------------+---------------+\n",
      "|longitude|latitude|housing_median_age|total_rooms|total_bedrooms|population|households|median_income|median_house_value|ocean_proximity|\n",
      "+---------+--------+------------------+-----------+--------------+----------+----------+-------------+------------------+---------------+\n",
      "|  -122.23|   37.88|              41.0|      880.0|         129.0|     322.0|     126.0|       8.3252|          452600.0|       NEAR BAY|\n",
      "|  -122.22|   37.86|              21.0|     7099.0|        1106.0|    2401.0|    1138.0|       8.3014|          358500.0|       NEAR BAY|\n",
      "|  -122.24|   37.85|              52.0|     1467.0|         190.0|     496.0|     177.0|       7.2574|          352100.0|       NEAR BAY|\n",
      "|  -122.25|   37.85|              52.0|     1274.0|         235.0|     558.0|     219.0|       5.6431|          341300.0|       NEAR BAY|\n",
      "|  -122.25|   37.85|              52.0|     1627.0|         280.0|     565.0|     259.0|       3.8462|          342200.0|       NEAR BAY|\n",
      "+---------+--------+------------------+-----------+--------------+----------+----------+-------------+------------------+---------------+\n",
      "only showing top 5 rows\n",
      "\n"
     ]
    },
    {
     "data": {
      "text/plain": [
       "None"
      ]
     },
     "metadata": {},
     "output_type": "display_data"
    }
   ],
   "source": [
    "# Находяться уникальные значения  в колонке ocean_proximity и колличество значений\n",
    "print(df.select('ocean_proximity').distinct().toPandas()) # Отнесем к категориальному признаку\n",
    "display(df.groupBy('ocean_proximity').count().toPandas()) # Находим кооличество отдаленных  от океана мест \n",
    "display(df.show(5))"
   ]
  },
  {
   "cell_type": "code",
   "execution_count": 6,
   "id": "9543b472",
   "metadata": {},
   "outputs": [
    {
     "name": "stdout",
     "output_type": "stream",
     "text": [
      "root\n",
      " |-- longitude: double (nullable = true)\n",
      " |-- latitude: double (nullable = true)\n",
      " |-- housing_median_age: double (nullable = true)\n",
      " |-- total_rooms: integer (nullable = true)\n",
      " |-- total_bedrooms: integer (nullable = true)\n",
      " |-- population: integer (nullable = true)\n",
      " |-- households: integer (nullable = true)\n",
      " |-- median_income: double (nullable = true)\n",
      " |-- median_house_value: integer (nullable = true)\n",
      " |-- ocean_proximity: string (nullable = true)\n",
      "\n"
     ]
    }
   ],
   "source": [
    "# приведенние типы данных к нужному (такие как колличество комнат и спален и т.д.)\n",
    "colum = ['total_rooms', 'total_bedrooms', 'population',\n",
    "          'households', 'median_house_value']\n",
    "for _ in colum:\n",
    "    df = df.withColumn(_, F.col(_).cast(IntegerType()))\n",
    "\n",
    "df.printSchema()"
   ]
  },
  {
   "cell_type": "code",
   "execution_count": 7,
   "id": "2bbec9df",
   "metadata": {
    "scrolled": true
   },
   "outputs": [
    {
     "data": {
      "text/html": [
       "<div>\n",
       "<style scoped>\n",
       "    .dataframe tbody tr th:only-of-type {\n",
       "        vertical-align: middle;\n",
       "    }\n",
       "\n",
       "    .dataframe tbody tr th {\n",
       "        vertical-align: top;\n",
       "    }\n",
       "\n",
       "    .dataframe thead th {\n",
       "        text-align: right;\n",
       "    }\n",
       "</style>\n",
       "<table border=\"1\" class=\"dataframe\">\n",
       "  <thead>\n",
       "    <tr style=\"text-align: right;\">\n",
       "      <th></th>\n",
       "      <th>longitude</th>\n",
       "      <th>latitude</th>\n",
       "      <th>housing_median_age</th>\n",
       "      <th>total_rooms</th>\n",
       "      <th>total_bedrooms</th>\n",
       "      <th>population</th>\n",
       "      <th>households</th>\n",
       "      <th>median_income</th>\n",
       "      <th>median_house_value</th>\n",
       "      <th>ocean_proximity</th>\n",
       "    </tr>\n",
       "  </thead>\n",
       "  <tbody>\n",
       "    <tr>\n",
       "      <th>0</th>\n",
       "      <td>-118.320</td>\n",
       "      <td>33.350</td>\n",
       "      <td>27.000</td>\n",
       "      <td>1675</td>\n",
       "      <td>521</td>\n",
       "      <td>744</td>\n",
       "      <td>331</td>\n",
       "      <td>2.158</td>\n",
       "      <td>450000</td>\n",
       "      <td>ISLAND</td>\n",
       "    </tr>\n",
       "    <tr>\n",
       "      <th>1</th>\n",
       "      <td>-118.330</td>\n",
       "      <td>33.340</td>\n",
       "      <td>52.000</td>\n",
       "      <td>2359</td>\n",
       "      <td>591</td>\n",
       "      <td>1100</td>\n",
       "      <td>431</td>\n",
       "      <td>2.833</td>\n",
       "      <td>414700</td>\n",
       "      <td>ISLAND</td>\n",
       "    </tr>\n",
       "    <tr>\n",
       "      <th>2</th>\n",
       "      <td>-118.320</td>\n",
       "      <td>33.330</td>\n",
       "      <td>52.000</td>\n",
       "      <td>2127</td>\n",
       "      <td>512</td>\n",
       "      <td>733</td>\n",
       "      <td>288</td>\n",
       "      <td>3.391</td>\n",
       "      <td>300000</td>\n",
       "      <td>ISLAND</td>\n",
       "    </tr>\n",
       "    <tr>\n",
       "      <th>3</th>\n",
       "      <td>-118.320</td>\n",
       "      <td>33.340</td>\n",
       "      <td>52.000</td>\n",
       "      <td>996</td>\n",
       "      <td>264</td>\n",
       "      <td>341</td>\n",
       "      <td>160</td>\n",
       "      <td>2.736</td>\n",
       "      <td>450000</td>\n",
       "      <td>ISLAND</td>\n",
       "    </tr>\n",
       "    <tr>\n",
       "      <th>4</th>\n",
       "      <td>-118.480</td>\n",
       "      <td>33.430</td>\n",
       "      <td>29.000</td>\n",
       "      <td>716</td>\n",
       "      <td>214</td>\n",
       "      <td>422</td>\n",
       "      <td>173</td>\n",
       "      <td>2.604</td>\n",
       "      <td>287500</td>\n",
       "      <td>ISLAND</td>\n",
       "    </tr>\n",
       "  </tbody>\n",
       "</table>\n",
       "</div>"
      ],
      "text/plain": [
       "   longitude  latitude  housing_median_age  total_rooms  total_bedrooms  \\\n",
       "0   -118.320    33.350              27.000         1675             521   \n",
       "1   -118.330    33.340              52.000         2359             591   \n",
       "2   -118.320    33.330              52.000         2127             512   \n",
       "3   -118.320    33.340              52.000          996             264   \n",
       "4   -118.480    33.430              29.000          716             214   \n",
       "\n",
       "   population  households  median_income  median_house_value ocean_proximity  \n",
       "0         744         331          2.158              450000          ISLAND  \n",
       "1        1100         431          2.833              414700          ISLAND  \n",
       "2         733         288          3.391              300000          ISLAND  \n",
       "3         341         160          2.736              450000          ISLAND  \n",
       "4         422         173          2.604              287500          ISLAND  "
      ]
     },
     "execution_count": 7,
     "metadata": {},
     "output_type": "execute_result"
    }
   ],
   "source": [
    "# Проверка не являеться ли ошибкой значение island (так как малая группа)\n",
    "df.filter((df.ocean_proximity  == 'ISLAND')).toPandas() "
   ]
  },
  {
   "cell_type": "markdown",
   "id": "0007b79e",
   "metadata": {},
   "source": [
    "- Просмотрев по координатам (долготы и широте) можно увидеть то что да это сооветсвует острову Санта-Каталина"
   ]
  },
  {
   "cell_type": "code",
   "execution_count": 8,
   "id": "20476b1f",
   "metadata": {},
   "outputs": [
    {
     "data": {
      "text/html": [
       "<div>\n",
       "<style scoped>\n",
       "    .dataframe tbody tr th:only-of-type {\n",
       "        vertical-align: middle;\n",
       "    }\n",
       "\n",
       "    .dataframe tbody tr th {\n",
       "        vertical-align: top;\n",
       "    }\n",
       "\n",
       "    .dataframe thead th {\n",
       "        text-align: right;\n",
       "    }\n",
       "</style>\n",
       "<table border=\"1\" class=\"dataframe\">\n",
       "  <thead>\n",
       "    <tr style=\"text-align: right;\">\n",
       "      <th></th>\n",
       "      <th>NA</th>\n",
       "    </tr>\n",
       "  </thead>\n",
       "  <tbody>\n",
       "    <tr>\n",
       "      <th>longitude</th>\n",
       "      <td>0</td>\n",
       "    </tr>\n",
       "    <tr>\n",
       "      <th>latitude</th>\n",
       "      <td>0</td>\n",
       "    </tr>\n",
       "    <tr>\n",
       "      <th>housing_median_age</th>\n",
       "      <td>0</td>\n",
       "    </tr>\n",
       "    <tr>\n",
       "      <th>total_rooms</th>\n",
       "      <td>0</td>\n",
       "    </tr>\n",
       "    <tr>\n",
       "      <th>total_bedrooms</th>\n",
       "      <td>207</td>\n",
       "    </tr>\n",
       "    <tr>\n",
       "      <th>population</th>\n",
       "      <td>0</td>\n",
       "    </tr>\n",
       "    <tr>\n",
       "      <th>households</th>\n",
       "      <td>0</td>\n",
       "    </tr>\n",
       "    <tr>\n",
       "      <th>median_income</th>\n",
       "      <td>0</td>\n",
       "    </tr>\n",
       "    <tr>\n",
       "      <th>median_house_value</th>\n",
       "      <td>0</td>\n",
       "    </tr>\n",
       "    <tr>\n",
       "      <th>ocean_proximity</th>\n",
       "      <td>0</td>\n",
       "    </tr>\n",
       "  </tbody>\n",
       "</table>\n",
       "</div>"
      ],
      "text/plain": [
       "                     NA\n",
       "longitude             0\n",
       "latitude              0\n",
       "housing_median_age    0\n",
       "total_rooms           0\n",
       "total_bedrooms      207\n",
       "population            0\n",
       "households            0\n",
       "median_income         0\n",
       "median_house_value    0\n",
       "ocean_proximity       0"
      ]
     },
     "metadata": {},
     "output_type": "display_data"
    }
   ],
   "source": [
    "# нахождение Нулевых значений и колличество данных значений\n",
    "nan_table = df \\\n",
    "            .select([F.count(F.when(F.isnan(c) | F.col(c).isNull(), c)) \\\n",
    "                     .alias(c) for c in df.columns]).toPandas().T.rename(columns={0:'NA'})\n",
    "display(nan_table)"
   ]
  },
  {
   "cell_type": "code",
   "execution_count": 9,
   "id": "abaf3e0a",
   "metadata": {
    "scrolled": true
   },
   "outputs": [
    {
     "name": "stdout",
     "output_type": "stream",
     "text": [
      "+-------+------------------+------------------+------------------+------------------+-----------------+------------------+\n",
      "|summary|housing_median_age|       total_rooms|    total_bedrooms|        population|       households|     median_income|\n",
      "+-------+------------------+------------------+------------------+------------------+-----------------+------------------+\n",
      "|  count|             20640|             20640|             20433|             20640|            20640|             20640|\n",
      "|   mean|28.639486434108527|2635.7630813953488| 537.8705525375618|1425.4767441860465|499.5396802325581|3.8706710029070246|\n",
      "| stddev| 12.58555761211163|2181.6152515827944|421.38507007403115|  1132.46212176534|382.3297528316098| 1.899821717945263|\n",
      "|    min|               1.0|                 2|                 1|                 3|                1|            0.4999|\n",
      "|    max|              52.0|             39320|              6445|             35682|             6082|           15.0001|\n",
      "+-------+------------------+------------------+------------------+------------------+-----------------+------------------+\n",
      "\n"
     ]
    }
   ],
   "source": [
    "# Основная статистика по датасету\n",
    "num_columns = ['housing_median_age', 'total_rooms',\n",
    "            'total_bedrooms', 'population', 'households', 'median_income']\n",
    "df.describe(num_columns).show()"
   ]
  },
  {
   "cell_type": "code",
   "execution_count": 10,
   "id": "accb59c9",
   "metadata": {},
   "outputs": [
    {
     "data": {
      "text/html": [
       "<div>\n",
       "<style scoped>\n",
       "    .dataframe tbody tr th:only-of-type {\n",
       "        vertical-align: middle;\n",
       "    }\n",
       "\n",
       "    .dataframe tbody tr th {\n",
       "        vertical-align: top;\n",
       "    }\n",
       "\n",
       "    .dataframe thead th {\n",
       "        text-align: right;\n",
       "    }\n",
       "</style>\n",
       "<table border=\"1\" class=\"dataframe\">\n",
       "  <thead>\n",
       "    <tr style=\"text-align: right;\">\n",
       "      <th></th>\n",
       "      <th>quantile_25</th>\n",
       "      <th>quantile_50</th>\n",
       "      <th>quantile_75</th>\n",
       "    </tr>\n",
       "  </thead>\n",
       "  <tbody>\n",
       "    <tr>\n",
       "      <th>0</th>\n",
       "      <td>19.000</td>\n",
       "      <td>30.000</td>\n",
       "      <td>38.000</td>\n",
       "    </tr>\n",
       "    <tr>\n",
       "      <th>1</th>\n",
       "      <td>1307.000</td>\n",
       "      <td>2155.000</td>\n",
       "      <td>3473.000</td>\n",
       "    </tr>\n",
       "    <tr>\n",
       "      <th>2</th>\n",
       "      <td>NaN</td>\n",
       "      <td>NaN</td>\n",
       "      <td>NaN</td>\n",
       "    </tr>\n",
       "    <tr>\n",
       "      <th>3</th>\n",
       "      <td>781.000</td>\n",
       "      <td>1217.000</td>\n",
       "      <td>1891.000</td>\n",
       "    </tr>\n",
       "    <tr>\n",
       "      <th>4</th>\n",
       "      <td>257.000</td>\n",
       "      <td>427.000</td>\n",
       "      <td>629.000</td>\n",
       "    </tr>\n",
       "    <tr>\n",
       "      <th>5</th>\n",
       "      <td>2.562</td>\n",
       "      <td>3.412</td>\n",
       "      <td>4.633</td>\n",
       "    </tr>\n",
       "  </tbody>\n",
       "</table>\n",
       "</div>"
      ],
      "text/plain": [
       "   quantile_25  quantile_50  quantile_75\n",
       "0       19.000       30.000       38.000\n",
       "1     1307.000     2155.000     3473.000\n",
       "2          NaN          NaN          NaN\n",
       "3      781.000     1217.000     1891.000\n",
       "4      257.000      427.000      629.000\n",
       "5        2.562        3.412        4.633"
      ]
     },
     "metadata": {},
     "output_type": "display_data"
    }
   ],
   "source": [
    "quantile_lst = df.filter('total_bedrooms is NULL').approxQuantile(num_columns, [0.25, 0.5, 0.75], 0)\n",
    "quantile_df = pd.DataFrame(quantile_lst, columns=['quantile_25', 'quantile_50', 'quantile_75'])\n",
    "\n",
    "display(quantile_df)"
   ]
  },
  {
   "cell_type": "code",
   "execution_count": 11,
   "id": "12ced05c",
   "metadata": {},
   "outputs": [
    {
     "data": {
      "image/png": "[encoded data removed]",
      "text/plain": [
       "<Figure size 432x288 with 1 Axes>"
      ]
     },
     "metadata": {
      "needs_background": "light"
     },
     "output_type": "display_data"
    },
    {
     "data": {
      "text/plain": [
       "<AxesSubplot:xlabel='total_bedrooms'>"
      ]
     },
     "execution_count": 11,
     "metadata": {},
     "output_type": "execute_result"
    },
    {
     "data": {
      "image/png": "[encoded data removed]",
      "text/plain": [
       "<Figure size 432x288 with 1 Axes>"
      ]
     },
     "metadata": {
      "needs_background": "light"
     },
     "output_type": "display_data"
    }
   ],
   "source": [
    "sns.histplot(data=df.sample(0.5).toPandas(), x=\"total_bedrooms\", multiple=\"stack\", kde=True)\n",
    "plt.show()\n",
    "sns.boxplot(data=df.sample(0.5).toPandas(), x=\"total_bedrooms\")\n",
    "# Заполняться медианным значением\n"
   ]
  },
  {
   "cell_type": "markdown",
   "id": "822f2a69",
   "metadata": {},
   "source": [
    "Как видно из графиков медиана находиться где то на половине участка между 0 и 1000, и так же есть выбросы которые начинаються с 1200 и свыше 6000 данные значение не понятно как обработать так как это может быть высокоэтжный дом (с большим колличеством спален) и чтобы не смещать значения выбираеться вставить вместо пропусков медианное значение"
   ]
  },
  {
   "cell_type": "code",
   "execution_count": 12,
   "id": "c0a1b805",
   "metadata": {},
   "outputs": [
    {
     "name": "stdout",
     "output_type": "stream",
     "text": [
      "Медианное значение колонки total bedrooms: 435.0\n"
     ]
    }
   ],
   "source": [
    "# Расчёт медианы и замена значений медианным\n",
    "df_tot_bed = df.approxQuantile('total_bedrooms',[0.5],0)[0]\n",
    "print(f'Медианное значение колонки total bedrooms: {df_tot_bed}')\n",
    "df = df.fillna(df_tot_bed, subset=['total_bedrooms'])"
   ]
  },
  {
   "cell_type": "code",
   "execution_count": 13,
   "id": "79b205e2",
   "metadata": {},
   "outputs": [
    {
     "name": "stderr",
     "output_type": "stream",
     "text": [
      "23/02/22 10:07:57 WARN BLAS: Failed to load implementation from: com.github.fommil.netlib.NativeSystemBLAS\n",
      "23/02/22 10:07:57 WARN BLAS: Failed to load implementation from: com.github.fommil.netlib.NativeRefBLAS\n",
      "                                                                                \r"
     ]
    },
    {
     "data": {
      "text/plain": [
       "<AxesSubplot:>"
      ]
     },
     "execution_count": 13,
     "metadata": {},
     "output_type": "execute_result"
    },
    {
     "data": {
      "image/png": "[encoded data removed]",
      "text/plain": [
       "<Figure size 432x288 with 2 Axes>"
      ]
     },
     "metadata": {
      "needs_background": "light"
     },
     "output_type": "display_data"
    }
   ],
   "source": [
    "# Построение корреляционной матрицы \n",
    "corr_col = ['longitude', 'latitude', 'housing_median_age', 'total_rooms',\n",
    "            'total_bedrooms', 'population', 'households', 'median_income']\n",
    "\n",
    "vector_col = 'corr_feat'\n",
    "assembler = VectorAssembler(inputCols=corr_col, outputCol=vector_col)\n",
    "df_vector = assembler.setHandleInvalid('skip').transform(df[corr_col]).select(vector_col)\n",
    "\n",
    "#создаеться матрица\n",
    "matrix = Correlation.corr(df_vector, vector_col)\n",
    "cor_np = matrix.collect()[0][matrix.columns[0]].toArray()\n",
    "\n",
    "\n",
    "matrix_df = pd.DataFrame(cor_np, columns=corr_col)\n",
    "matrix_df.index = corr_col\n",
    "\n",
    "sns.heatmap(matrix_df, annot=True, vmin=-1, vmax=1, cmap='viridis')"
   ]
  },
  {
   "cell_type": "code",
   "execution_count": 14,
   "id": "9c010d5f",
   "metadata": {},
   "outputs": [],
   "source": [
    "# разделение на feat and target\n",
    "cat_features = 'ocean_proximity'\n",
    "num_features = corr_col\n",
    "target = 'median_house_value'"
   ]
  },
  {
   "cell_type": "code",
   "execution_count": 15,
   "id": "4e7d1807",
   "metadata": {
    "scrolled": true
   },
   "outputs": [
    {
     "name": "stdout",
     "output_type": "stream",
     "text": [
      "+---------------+-------------------+\n",
      "|ocean_proximity|ocean_proximity_idx|\n",
      "+---------------+-------------------+\n",
      "|       NEAR BAY|                3.0|\n",
      "|       NEAR BAY|                3.0|\n",
      "|       NEAR BAY|                3.0|\n",
      "+---------------+-------------------+\n",
      "only showing top 3 rows\n",
      "\n"
     ]
    }
   ],
   "source": [
    "# Трансформация данных при помощи String Index\n",
    "indexer = StringIndexer(inputCol=cat_features,\n",
    "                        outputCol=cat_features+'_idx')\n",
    "df = indexer.fit(df).transform(df)\n",
    "\n",
    "# Проверка трансформации\n",
    "cols = [c for c in df.columns if c.startswith(cat_features)]\n",
    "df.select(cols).show(3)"
   ]
  },
  {
   "cell_type": "code",
   "execution_count": 16,
   "id": "3bd040f7",
   "metadata": {
    "scrolled": true
   },
   "outputs": [
    {
     "name": "stdout",
     "output_type": "stream",
     "text": [
      "+---------------+-------------------+-------------------+\n",
      "|ocean_proximity|ocean_proximity_idx|ocean_proximity_ohe|\n",
      "+---------------+-------------------+-------------------+\n",
      "|       NEAR BAY|                3.0|      (4,[3],[1.0])|\n",
      "|       NEAR BAY|                3.0|      (4,[3],[1.0])|\n",
      "|       NEAR BAY|                3.0|      (4,[3],[1.0])|\n",
      "+---------------+-------------------+-------------------+\n",
      "only showing top 3 rows\n",
      "\n"
     ]
    }
   ],
   "source": [
    "# Дополнительно используеться OHE коддирование\n",
    "encoder = OneHotEncoder(inputCol='ocean_proximity_idx',\n",
    "                        outputCol=cat_features+'_ohe')\n",
    "df = encoder.fit(df).transform(df)\n",
    "\n",
    "cols = [c for c in df.columns if c.startswith(cat_features)]\n",
    "df.select(cols).show(3)"
   ]
  },
  {
   "cell_type": "code",
   "execution_count": 17,
   "id": "5bc8eb34",
   "metadata": {},
   "outputs": [
    {
     "data": {
      "text/html": [
       "<div>\n",
       "<style scoped>\n",
       "    .dataframe tbody tr th:only-of-type {\n",
       "        vertical-align: middle;\n",
       "    }\n",
       "\n",
       "    .dataframe tbody tr th {\n",
       "        vertical-align: top;\n",
       "    }\n",
       "\n",
       "    .dataframe thead th {\n",
       "        text-align: right;\n",
       "    }\n",
       "</style>\n",
       "<table border=\"1\" class=\"dataframe\">\n",
       "  <thead>\n",
       "    <tr style=\"text-align: right;\">\n",
       "      <th></th>\n",
       "      <th>longitude</th>\n",
       "      <th>latitude</th>\n",
       "      <th>housing_median_age</th>\n",
       "      <th>total_rooms</th>\n",
       "      <th>total_bedrooms</th>\n",
       "      <th>population</th>\n",
       "      <th>households</th>\n",
       "      <th>median_income</th>\n",
       "      <th>median_house_value</th>\n",
       "      <th>ocean_proximity</th>\n",
       "      <th>ocean_proximity_idx</th>\n",
       "      <th>ocean_proximity_ohe</th>\n",
       "      <th>categorical_features</th>\n",
       "    </tr>\n",
       "  </thead>\n",
       "  <tbody>\n",
       "    <tr>\n",
       "      <th>0</th>\n",
       "      <td>-122.230</td>\n",
       "      <td>37.880</td>\n",
       "      <td>41.000</td>\n",
       "      <td>880</td>\n",
       "      <td>129</td>\n",
       "      <td>322</td>\n",
       "      <td>126</td>\n",
       "      <td>8.325</td>\n",
       "      <td>452600</td>\n",
       "      <td>NEAR BAY</td>\n",
       "      <td>3.000</td>\n",
       "      <td>(0.0, 0.0, 0.0, 1.0)</td>\n",
       "      <td>(0.0, 0.0, 0.0, 1.0)</td>\n",
       "    </tr>\n",
       "    <tr>\n",
       "      <th>1</th>\n",
       "      <td>-122.220</td>\n",
       "      <td>37.860</td>\n",
       "      <td>21.000</td>\n",
       "      <td>7099</td>\n",
       "      <td>1106</td>\n",
       "      <td>2401</td>\n",
       "      <td>1138</td>\n",
       "      <td>8.301</td>\n",
       "      <td>358500</td>\n",
       "      <td>NEAR BAY</td>\n",
       "      <td>3.000</td>\n",
       "      <td>(0.0, 0.0, 0.0, 1.0)</td>\n",
       "      <td>(0.0, 0.0, 0.0, 1.0)</td>\n",
       "    </tr>\n",
       "    <tr>\n",
       "      <th>2</th>\n",
       "      <td>-122.240</td>\n",
       "      <td>37.850</td>\n",
       "      <td>52.000</td>\n",
       "      <td>1467</td>\n",
       "      <td>190</td>\n",
       "      <td>496</td>\n",
       "      <td>177</td>\n",
       "      <td>7.257</td>\n",
       "      <td>352100</td>\n",
       "      <td>NEAR BAY</td>\n",
       "      <td>3.000</td>\n",
       "      <td>(0.0, 0.0, 0.0, 1.0)</td>\n",
       "      <td>(0.0, 0.0, 0.0, 1.0)</td>\n",
       "    </tr>\n",
       "    <tr>\n",
       "      <th>3</th>\n",
       "      <td>-122.250</td>\n",
       "      <td>37.850</td>\n",
       "      <td>52.000</td>\n",
       "      <td>1274</td>\n",
       "      <td>235</td>\n",
       "      <td>558</td>\n",
       "      <td>219</td>\n",
       "      <td>5.643</td>\n",
       "      <td>341300</td>\n",
       "      <td>NEAR BAY</td>\n",
       "      <td>3.000</td>\n",
       "      <td>(0.0, 0.0, 0.0, 1.0)</td>\n",
       "      <td>(0.0, 0.0, 0.0, 1.0)</td>\n",
       "    </tr>\n",
       "    <tr>\n",
       "      <th>4</th>\n",
       "      <td>-122.250</td>\n",
       "      <td>37.850</td>\n",
       "      <td>52.000</td>\n",
       "      <td>1627</td>\n",
       "      <td>280</td>\n",
       "      <td>565</td>\n",
       "      <td>259</td>\n",
       "      <td>3.846</td>\n",
       "      <td>342200</td>\n",
       "      <td>NEAR BAY</td>\n",
       "      <td>3.000</td>\n",
       "      <td>(0.0, 0.0, 0.0, 1.0)</td>\n",
       "      <td>(0.0, 0.0, 0.0, 1.0)</td>\n",
       "    </tr>\n",
       "  </tbody>\n",
       "</table>\n",
       "</div>"
      ],
      "text/plain": [
       "   longitude  latitude  housing_median_age  total_rooms  total_bedrooms  \\\n",
       "0   -122.230    37.880              41.000          880             129   \n",
       "1   -122.220    37.860              21.000         7099            1106   \n",
       "2   -122.240    37.850              52.000         1467             190   \n",
       "3   -122.250    37.850              52.000         1274             235   \n",
       "4   -122.250    37.850              52.000         1627             280   \n",
       "\n",
       "   population  households  median_income  median_house_value ocean_proximity  \\\n",
       "0         322         126          8.325              452600        NEAR BAY   \n",
       "1        2401        1138          8.301              358500        NEAR BAY   \n",
       "2         496         177          7.257              352100        NEAR BAY   \n",
       "3         558         219          5.643              341300        NEAR BAY   \n",
       "4         565         259          3.846              342200        NEAR BAY   \n",
       "\n",
       "   ocean_proximity_idx   ocean_proximity_ohe  categorical_features  \n",
       "0                3.000  (0.0, 0.0, 0.0, 1.0)  (0.0, 0.0, 0.0, 1.0)  \n",
       "1                3.000  (0.0, 0.0, 0.0, 1.0)  (0.0, 0.0, 0.0, 1.0)  \n",
       "2                3.000  (0.0, 0.0, 0.0, 1.0)  (0.0, 0.0, 0.0, 1.0)  \n",
       "3                3.000  (0.0, 0.0, 0.0, 1.0)  (0.0, 0.0, 0.0, 1.0)  \n",
       "4                3.000  (0.0, 0.0, 0.0, 1.0)  (0.0, 0.0, 0.0, 1.0)  "
      ]
     },
     "execution_count": 17,
     "metadata": {},
     "output_type": "execute_result"
    }
   ],
   "source": [
    "# В преобразуется этот признак в один вектор\n",
    "categorical_vect = \\\n",
    "    VectorAssembler(inputCols=['ocean_proximity_ohe'],\n",
    "                    outputCol='categorical_features')\n",
    "df = categorical_vect.transform(df)\n",
    "\n",
    "# Проверка\n",
    "df.toPandas().head(5)"
   ]
  },
  {
   "cell_type": "markdown",
   "id": "90e522be",
   "metadata": {},
   "source": [
    "### Вывод \n",
    "- Была инцилизированна Spark версия\n",
    "- Исправленны типы данных\n",
    "- Проверенны значения в колонке ocean_proxmity\n",
    "- Построенна матрица корреляции по которой можно сказать наиболее корреляционными данными являються (всего комнат, семейство и всего спален ) это логично так как все комнат включает в себя  значения и спален.\n",
    "- Проведена кодировка категариальных признаков OHE and StringIndex"
   ]
  },
  {
   "cell_type": "markdown",
   "id": "7b9eaee0",
   "metadata": {
    "id": "9f0a82f3"
   },
   "source": [
    "## Обучение моделей"
   ]
  },
  {
   "cell_type": "code",
   "execution_count": 18,
   "id": "b038e3a6",
   "metadata": {},
   "outputs": [
    {
     "name": "stdout",
     "output_type": "stream",
     "text": [
      "root\n",
      " |-- longitude: double (nullable = true)\n",
      " |-- latitude: double (nullable = true)\n",
      " |-- housing_median_age: double (nullable = true)\n",
      " |-- total_rooms: integer (nullable = true)\n",
      " |-- total_bedrooms: integer (nullable = true)\n",
      " |-- population: integer (nullable = true)\n",
      " |-- households: integer (nullable = true)\n",
      " |-- median_income: double (nullable = true)\n",
      " |-- median_house_value: integer (nullable = true)\n",
      " |-- ocean_proximity: string (nullable = true)\n",
      " |-- ocean_proximity_idx: double (nullable = false)\n",
      " |-- ocean_proximity_ohe: vector (nullable = true)\n",
      " |-- categorical_features: vector (nullable = true)\n",
      " |-- numerical_features: vector (nullable = true)\n",
      " |-- numerical_features_scaled: vector (nullable = true)\n",
      "\n"
     ]
    }
   ],
   "source": [
    "# Для значений которые имеют большие значения не смещали оценку используеться StanfardScaler\n",
    "numerical_vect = VectorAssembler(inputCols=num_features,\n",
    "                                      outputCol='numerical_features')\n",
    "df = numerical_vect.transform(df)\n",
    "\n",
    "standard_scaler = StandardScaler(inputCol='numerical_features',\n",
    "                                 outputCol='numerical_features_scaled')\n",
    "df = standard_scaler.fit(df).transform(df)\n",
    "df.printSchema()"
   ]
  },
  {
   "cell_type": "code",
   "execution_count": 19,
   "id": "72b6b7e1",
   "metadata": {},
   "outputs": [
    {
     "name": "stdout",
     "output_type": "stream",
     "text": [
      "+--------------------+\n",
      "|        all_features|\n",
      "+--------------------+\n",
      "|[0.0,0.0,0.0,1.0,...|\n",
      "|[0.0,0.0,0.0,1.0,...|\n",
      "|[0.0,0.0,0.0,1.0,...|\n",
      "+--------------------+\n",
      "only showing top 3 rows\n",
      "\n"
     ]
    }
   ],
   "source": [
    "# Преобразование категориальных и численных признаков в один вектор\n",
    "all_feat = ['categorical_features', 'numerical_features_scaled']\n",
    "final_vect = VectorAssembler(inputCols=all_feat,\n",
    "                                  outputCol='all_features')\n",
    "df = final_vect.transform(df)\n",
    "df.select('all_features').show(3)"
   ]
  },
  {
   "cell_type": "code",
   "execution_count": 20,
   "id": "c1f8aa80",
   "metadata": {},
   "outputs": [
    {
     "name": "stderr",
     "output_type": "stream",
     "text": [
      "                                                                                \r"
     ]
    },
    {
     "name": "stdout",
     "output_type": "stream",
     "text": [
      "Обучающая выборка: 15500 строк, 3 столбцов \n",
      "Тестовая выборка:, 5140 строк, 3 столбцов\n"
     ]
    }
   ],
   "source": [
    "# Разделение на обучающую и тестовую выборку\n",
    "train, test = df.select(['all_features',\n",
    "                                 'numerical_features_scaled',\n",
    "                                 'median_house_value']).randomSplit([.75, .25], seed=RANDOM_SEED)\n",
    "print(f'Обучающая выборка: {train.count()} строк, {len(train.columns)} столбцов',\n",
    "      f'\\nТестовая выборка:, {test.count()} строк, {len(test.columns)} столбцов')"
   ]
  },
  {
   "cell_type": "code",
   "execution_count": 21,
   "id": "b50485dd",
   "metadata": {},
   "outputs": [
    {
     "name": "stderr",
     "output_type": "stream",
     "text": [
      "23/02/22 10:08:07 WARN Instrumentation: [7793004a] regParam is zero, which might cause numerical instability and overfitting.\n",
      "23/02/22 10:08:08 WARN LAPACK: Failed to load implementation from: com.github.fommil.netlib.NativeSystemLAPACK\n",
      "23/02/22 10:08:08 WARN LAPACK: Failed to load implementation from: com.github.fommil.netlib.NativeRefLAPACK\n",
      "23/02/22 10:08:13 WARN Instrumentation: [f0a70494] regParam is zero, which might cause numerical instability and overfitting.\n",
      "                                                                                \r"
     ]
    }
   ],
   "source": [
    "# Создаем список, куда будут вноситься результаты\n",
    "data_table = [['features_used', 'RMSE', 'MAE', 'R2']]\n",
    "\n",
    "for col in ['all_features', 'numerical_features_scaled']:\n",
    "    # обучаем модель\n",
    "    lr = LinearRegression(featuresCol=col, labelCol=target)\n",
    "    model = lr.fit(train)\n",
    "    \n",
    "    #запишем предсказания на тестовой выборке\n",
    "    predictions = model.transform(test)\n",
    "    \n",
    "    #выделим предсказания и ответы в отдельную переменную\n",
    "    results = predictions.select(['prediction', target])\n",
    "    results = results.withColumn(\"median_house_value\",results.median_house_value.cast('double'))\n",
    "    metrics = RegressionMetrics(results.rdd) \n",
    "\n",
    "    #добавим результаты в список\n",
    "    data_table.append([col,\n",
    "                       metrics.rootMeanSquaredError,\n",
    "                       metrics.meanAbsoluteError,\n",
    "                       metrics.r2])"
   ]
  },
  {
   "cell_type": "markdown",
   "id": "de538238",
   "metadata": {},
   "source": [
    "### Вывод\n",
    "- Используеться тстратификация данных (чтоб не происходило смещение оценок изза больших значений данных)\n",
    "- Преобрахуються категориальных и численных признаков в один вектор all featureS  который последующем вноситься в dataframe\n",
    "- Разделение тестовой и тренировочной выборки\n",
    "- Обучение и предсказание и вывод модели "
   ]
  },
  {
   "cell_type": "markdown",
   "id": "757fd103",
   "metadata": {
    "id": "757fd103"
   },
   "source": [
    "## Анализ результатов"
   ]
  },
  {
   "cell_type": "code",
   "execution_count": 22,
   "id": "c8da850f",
   "metadata": {},
   "outputs": [
    {
     "data": {
      "text/html": [
       "<div>\n",
       "<style scoped>\n",
       "    .dataframe tbody tr th:only-of-type {\n",
       "        vertical-align: middle;\n",
       "    }\n",
       "\n",
       "    .dataframe tbody tr th {\n",
       "        vertical-align: top;\n",
       "    }\n",
       "\n",
       "    .dataframe thead th {\n",
       "        text-align: right;\n",
       "    }\n",
       "</style>\n",
       "<table border=\"1\" class=\"dataframe\">\n",
       "  <thead>\n",
       "    <tr style=\"text-align: right;\">\n",
       "      <th></th>\n",
       "      <th>features_used</th>\n",
       "      <th>RMSE</th>\n",
       "      <th>MAE</th>\n",
       "      <th>R2</th>\n",
       "    </tr>\n",
       "  </thead>\n",
       "  <tbody>\n",
       "    <tr>\n",
       "      <th>0</th>\n",
       "      <td>all_features</td>\n",
       "      <td>67559.131</td>\n",
       "      <td>49365.353</td>\n",
       "      <td>0.660</td>\n",
       "    </tr>\n",
       "    <tr>\n",
       "      <th>1</th>\n",
       "      <td>numerical_features_scaled</td>\n",
       "      <td>68462.761</td>\n",
       "      <td>50316.784</td>\n",
       "      <td>0.651</td>\n",
       "    </tr>\n",
       "  </tbody>\n",
       "</table>\n",
       "</div>"
      ],
      "text/plain": [
       "               features_used      RMSE       MAE    R2\n",
       "0               all_features 67559.131 49365.353 0.660\n",
       "1  numerical_features_scaled 68462.761 50316.784 0.651"
      ]
     },
     "execution_count": 22,
     "metadata": {},
     "output_type": "execute_result"
    }
   ],
   "source": [
    "pd.DataFrame(data_table[1:], columns=data_table[0])"
   ]
  },
  {
   "cell_type": "markdown",
   "id": "17502761",
   "metadata": {},
   "source": [
    "Посмотрев на результаты указанных выше в таблице можно сказать то что:\n",
    "- RMSE and MAE меньше у (тех значений которые использует все feat) Чем ниже RMSE тем та модель наиболее соотвествует dataframe\n",
    "- Обучение надо проводить с совсеми фичамя "
   ]
  },
  {
   "cell_type": "markdown",
   "id": "166a4e61",
   "metadata": {},
   "source": [
    "## Вывод\n",
    "Была построена модель линейной регресии, которая предсказывает медианное значение стоиости жилища в  Калифорнии 1990 года. Для предсказания данной модели надо испольоваться все features  которые могут помочь решить данную задачу. "
   ]
  },
  {
   "cell_type": "markdown",
   "id": "900b7641",
   "metadata": {},
   "source": [
    "## Чек лист"
   ]
  },
  {
   "cell_type": "markdown",
   "id": "7d02dcb3",
   "metadata": {},
   "source": [
    "- [x] Инициализируйте локальную Spark-сессию.\n",
    "- [x] Прочитайте содержимое файла /datasets/housing.csv.\n",
    "- [x] Выведите типы данных колонок датасета. Используйте методы pySpark.\n",
    "- [x] Выполните предобработку данных:\n",
    " -  Исследуйте данные на наличие пропусков и заполните их, выбрав значения по своему усмотрению.\n",
    " -  Преобразуйте колонку с категориальными значениями техникой One hot encoding.\n",
    "- [x] Постройте две модели линейной регрессии на разных наборах данных:\n",
    " -  используя все данные из файла;\n",
    " -  используя только числовые переменные, исключив категориальные.\n",
    "- [x] Для построения модели используйте оценщик LinearRegression из библиотеки MLlib.\n",
    "- [x] Сравните результаты работы линейной регрессии на двух наборах данных по метрикам RMSE, MAE и R2. Сделайте выводы."
   ]
  },
  {
   "cell_type": "code",
   "execution_count": 25,
   "id": "485b123b",
   "metadata": {},
   "outputs": [],
   "source": [
    "spark.stop()"
   ]
  }
 ],
 "metadata": {
  "ExecuteTimeLog": [
   {
    "duration": 1575,
    "start_time": "2023-02-15T14:47:18.501Z"
   },
   {
    "duration": 17337,
    "start_time": "2023-02-15T14:47:20.337Z"
   },
   {
    "duration": 11312,
    "start_time": "2023-02-15T14:50:19.026Z"
   },
   {
    "duration": 465,
    "start_time": "2023-02-15T14:50:52.093Z"
   },
   {
    "duration": 1162,
    "start_time": "2023-02-15T14:51:50.774Z"
   },
   {
    "duration": 193,
    "start_time": "2023-02-15T14:51:53.645Z"
   },
   {
    "duration": 158,
    "start_time": "2023-02-15T14:51:57.689Z"
   },
   {
    "duration": 119,
    "start_time": "2023-02-15T14:52:20.126Z"
   },
   {
    "duration": 18,
    "start_time": "2023-02-15T14:52:26.325Z"
   },
   {
    "duration": 4844,
    "start_time": "2023-02-15T14:53:58.914Z"
   },
   {
    "duration": 208,
    "start_time": "2023-02-15T14:54:14.450Z"
   },
   {
    "duration": 1267,
    "start_time": "2023-02-15T14:54:27.719Z"
   },
   {
    "duration": 21,
    "start_time": "2023-02-15T14:55:17.251Z"
   },
   {
    "duration": 976,
    "start_time": "2023-02-15T14:55:34.671Z"
   },
   {
    "duration": 705,
    "start_time": "2023-02-15T14:57:23.144Z"
   },
   {
    "duration": 905,
    "start_time": "2023-02-15T14:57:41.388Z"
   },
   {
    "duration": 411,
    "start_time": "2023-02-15T15:05:57.854Z"
   },
   {
    "duration": 439,
    "start_time": "2023-02-15T15:06:11.654Z"
   },
   {
    "duration": 5350,
    "start_time": "2023-02-15T15:06:24.023Z"
   },
   {
    "duration": 5,
    "start_time": "2023-02-15T16:18:04.223Z"
   },
   {
    "duration": 4596,
    "start_time": "2023-02-15T16:18:57.851Z"
   },
   {
    "duration": 3254,
    "start_time": "2023-02-15T16:19:13.219Z"
   },
   {
    "duration": 2894,
    "start_time": "2023-02-15T16:19:26.883Z"
   },
   {
    "duration": 3066,
    "start_time": "2023-02-15T16:19:51.373Z"
   },
   {
    "duration": 40,
    "start_time": "2023-02-15T16:23:44.735Z"
   },
   {
    "duration": 218,
    "start_time": "2023-02-15T16:24:25.696Z"
   },
   {
    "duration": 734,
    "start_time": "2023-02-15T16:25:29.107Z"
   },
   {
    "duration": 166,
    "start_time": "2023-02-15T16:25:31.396Z"
   },
   {
    "duration": 39,
    "start_time": "2023-02-15T16:25:49.823Z"
   },
   {
    "duration": 147,
    "start_time": "2023-02-15T16:26:25.804Z"
   },
   {
    "duration": 82,
    "start_time": "2023-02-15T16:27:40.308Z"
   },
   {
    "duration": 17,
    "start_time": "2023-02-15T16:29:57.652Z"
   },
   {
    "duration": 6,
    "start_time": "2023-02-15T16:29:58.324Z"
   },
   {
    "duration": 515,
    "start_time": "2023-02-15T16:29:58.838Z"
   },
   {
    "duration": 5,
    "start_time": "2023-02-15T16:29:59.355Z"
   },
   {
    "duration": 2908,
    "start_time": "2023-02-15T16:30:00.824Z"
   },
   {
    "duration": 142,
    "start_time": "2023-02-15T16:30:03.736Z"
   },
   {
    "duration": 624,
    "start_time": "2023-02-15T16:32:04.954Z"
   },
   {
    "duration": 108,
    "start_time": "2023-02-15T16:35:09.656Z"
   },
   {
    "duration": 1332,
    "start_time": "2023-02-15T16:35:23.083Z"
   },
   {
    "duration": 18422,
    "start_time": "2023-02-15T16:35:24.417Z"
   },
   {
    "duration": 11937,
    "start_time": "2023-02-15T16:35:42.841Z"
   },
   {
    "duration": 84,
    "start_time": "2023-02-15T16:35:54.780Z"
   },
   {
    "duration": 10481,
    "start_time": "2023-02-15T16:35:54.866Z"
   },
   {
    "duration": 309,
    "start_time": "2023-02-15T16:36:05.349Z"
   },
   {
    "duration": 800,
    "start_time": "2023-02-15T16:36:05.660Z"
   },
   {
    "duration": 4641,
    "start_time": "2023-02-15T16:41:15.128Z"
   },
   {
    "duration": 6551,
    "start_time": "2023-02-15T16:42:02.462Z"
   },
   {
    "duration": 4486,
    "start_time": "2023-02-15T16:42:27.954Z"
   },
   {
    "duration": 3971,
    "start_time": "2023-02-15T16:42:55.640Z"
   },
   {
    "duration": 99,
    "start_time": "2023-02-15T16:43:28.750Z"
   },
   {
    "duration": 352,
    "start_time": "2023-02-15T16:43:30.624Z"
   },
   {
    "duration": 5,
    "start_time": "2023-02-15T16:48:32.618Z"
   },
   {
    "duration": 5,
    "start_time": "2023-02-15T16:48:33.620Z"
   },
   {
    "duration": 699,
    "start_time": "2023-02-15T16:48:34.040Z"
   },
   {
    "duration": 5,
    "start_time": "2023-02-15T16:48:34.741Z"
   },
   {
    "duration": 3402,
    "start_time": "2023-02-15T16:48:35.038Z"
   },
   {
    "duration": 122,
    "start_time": "2023-02-15T16:48:38.443Z"
   },
   {
    "duration": 331,
    "start_time": "2023-02-15T16:48:38.566Z"
   },
   {
    "duration": 115,
    "start_time": "2023-02-15T16:48:40.839Z"
   },
   {
    "duration": 11,
    "start_time": "2023-02-15T16:49:08.255Z"
   },
   {
    "duration": 12,
    "start_time": "2023-02-15T16:49:16.122Z"
   },
   {
    "duration": 1813,
    "start_time": "2023-02-15T16:49:24.838Z"
   },
   {
    "duration": 7,
    "start_time": "2023-02-16T14:22:20.860Z"
   },
   {
    "duration": 22,
    "start_time": "2023-02-16T14:22:20.869Z"
   },
   {
    "duration": 689,
    "start_time": "2023-02-16T14:22:20.893Z"
   },
   {
    "duration": 4,
    "start_time": "2023-02-16T14:22:21.585Z"
   },
   {
    "duration": 4639,
    "start_time": "2023-02-16T14:22:21.591Z"
   },
   {
    "duration": 137,
    "start_time": "2023-02-16T14:22:26.255Z"
   },
   {
    "duration": 328,
    "start_time": "2023-02-16T14:22:26.394Z"
   },
   {
    "duration": 946,
    "start_time": "2023-02-16T14:22:26.724Z"
   },
   {
    "duration": 1032,
    "start_time": "2023-02-16T14:24:06.840Z"
   },
   {
    "duration": 484,
    "start_time": "2023-02-16T14:24:12.700Z"
   },
   {
    "duration": 1283,
    "start_time": "2023-02-16T14:25:16.996Z"
   },
   {
    "duration": 575,
    "start_time": "2023-02-16T14:25:41.028Z"
   },
   {
    "duration": 15,
    "start_time": "2023-02-16T14:26:06.632Z"
   },
   {
    "duration": 364,
    "start_time": "2023-02-16T14:26:32.365Z"
   },
   {
    "duration": 466,
    "start_time": "2023-02-16T14:26:37.612Z"
   },
   {
    "duration": 10,
    "start_time": "2023-02-16T14:30:15.092Z"
   },
   {
    "duration": 9,
    "start_time": "2023-02-16T14:31:56.145Z"
   },
   {
    "duration": 9,
    "start_time": "2023-02-16T14:32:02.566Z"
   },
   {
    "duration": 302,
    "start_time": "2023-02-16T14:32:08.217Z"
   },
   {
    "duration": 1256,
    "start_time": "2023-02-16T14:32:22.065Z"
   },
   {
    "duration": 362,
    "start_time": "2023-02-16T14:33:41.417Z"
   },
   {
    "duration": 856,
    "start_time": "2023-02-16T14:33:48.557Z"
   },
   {
    "duration": 1000,
    "start_time": "2023-02-16T14:34:04.493Z"
   },
   {
    "duration": 724,
    "start_time": "2023-02-16T14:34:18.141Z"
   },
   {
    "duration": 15,
    "start_time": "2023-02-16T14:37:31.539Z"
   },
   {
    "duration": 13,
    "start_time": "2023-02-16T14:39:15.415Z"
   },
   {
    "duration": 14,
    "start_time": "2023-02-16T14:39:22.579Z"
   },
   {
    "duration": 11,
    "start_time": "2023-02-16T14:39:49.087Z"
   },
   {
    "duration": 10,
    "start_time": "2023-02-16T14:40:18.395Z"
   },
   {
    "duration": 860,
    "start_time": "2023-02-16T14:40:58.393Z"
   },
   {
    "duration": 373,
    "start_time": "2023-02-16T14:41:20.092Z"
   },
   {
    "duration": 546,
    "start_time": "2023-02-16T14:41:28.947Z"
   },
   {
    "duration": 544,
    "start_time": "2023-02-16T14:41:53.744Z"
   },
   {
    "duration": 351,
    "start_time": "2023-02-16T14:42:09.439Z"
   },
   {
    "duration": 728,
    "start_time": "2023-02-16T14:42:25.071Z"
   },
   {
    "duration": 58,
    "start_time": "2023-02-19T06:42:34.084Z"
   },
   {
    "duration": 1414,
    "start_time": "2023-02-19T06:42:52.474Z"
   },
   {
    "duration": 15370,
    "start_time": "2023-02-19T06:42:53.891Z"
   },
   {
    "duration": 9193,
    "start_time": "2023-02-19T06:43:09.263Z"
   },
   {
    "duration": 82,
    "start_time": "2023-02-19T06:43:18.462Z"
   },
   {
    "duration": 10518,
    "start_time": "2023-02-19T06:43:18.546Z"
   },
   {
    "duration": 272,
    "start_time": "2023-02-19T06:43:29.066Z"
   },
   {
    "duration": 628,
    "start_time": "2023-02-19T06:43:29.341Z"
   },
   {
    "duration": 1375,
    "start_time": "2023-02-19T06:43:29.971Z"
   },
   {
    "duration": 1006,
    "start_time": "2023-02-19T06:43:31.348Z"
   },
   {
    "duration": 1371,
    "start_time": "2023-02-19T06:43:32.356Z"
   },
   {
    "duration": 49,
    "start_time": "2023-02-19T06:43:33.730Z"
   },
   {
    "duration": 1018,
    "start_time": "2023-02-19T06:43:51.023Z"
   },
   {
    "duration": 117,
    "start_time": "2023-02-19T06:46:47.727Z"
   },
   {
    "duration": 20,
    "start_time": "2023-02-19T06:47:31.463Z"
   },
   {
    "duration": 17,
    "start_time": "2023-02-19T06:47:41.195Z"
   },
   {
    "duration": 5,
    "start_time": "2023-02-19T06:48:22.351Z"
   },
   {
    "duration": 16,
    "start_time": "2023-02-19T06:48:27.027Z"
   },
   {
    "duration": 53,
    "start_time": "2023-02-19T06:48:38.139Z"
   },
   {
    "duration": 17,
    "start_time": "2023-02-19T06:48:48.065Z"
   },
   {
    "duration": 16,
    "start_time": "2023-02-19T06:52:33.388Z"
   },
   {
    "duration": 33,
    "start_time": "2023-02-19T06:52:50.644Z"
   },
   {
    "duration": 144,
    "start_time": "2023-02-19T06:52:55.379Z"
   },
   {
    "duration": 191,
    "start_time": "2023-02-19T06:53:13.040Z"
   },
   {
    "duration": 217,
    "start_time": "2023-02-19T06:53:32.053Z"
   },
   {
    "duration": 3892,
    "start_time": "2023-02-19T06:54:47.256Z"
   },
   {
    "duration": 1103,
    "start_time": "2023-02-19T06:55:00.372Z"
   },
   {
    "duration": 1802,
    "start_time": "2023-02-19T06:55:04.996Z"
   },
   {
    "duration": 13,
    "start_time": "2023-02-19T06:56:13.920Z"
   },
   {
    "duration": 3,
    "start_time": "2023-02-19T06:56:18.132Z"
   },
   {
    "duration": 21,
    "start_time": "2023-02-19T06:56:18.720Z"
   },
   {
    "duration": 1311,
    "start_time": "2023-02-19T06:56:32.328Z"
   },
   {
    "duration": 14,
    "start_time": "2023-02-19T06:57:04.592Z"
   },
   {
    "duration": 281,
    "start_time": "2023-02-19T06:57:09.020Z"
   },
   {
    "duration": 80,
    "start_time": "2023-02-19T06:57:42.288Z"
   },
   {
    "duration": 97,
    "start_time": "2023-02-19T06:58:05.880Z"
   },
   {
    "duration": 98,
    "start_time": "2023-02-19T06:58:32.864Z"
   },
   {
    "duration": 276,
    "start_time": "2023-02-19T06:58:35.080Z"
   },
   {
    "duration": 100,
    "start_time": "2023-02-19T06:58:37.905Z"
   },
   {
    "duration": 1304,
    "start_time": "2023-02-19T06:58:43.489Z"
   },
   {
    "duration": 16686,
    "start_time": "2023-02-19T06:58:44.795Z"
   },
   {
    "duration": 10522,
    "start_time": "2023-02-19T06:59:01.537Z"
   },
   {
    "duration": 80,
    "start_time": "2023-02-19T06:59:12.065Z"
   },
   {
    "duration": 11417,
    "start_time": "2023-02-19T06:59:12.149Z"
   },
   {
    "duration": 284,
    "start_time": "2023-02-19T06:59:23.568Z"
   },
   {
    "duration": 730,
    "start_time": "2023-02-19T06:59:23.854Z"
   },
   {
    "duration": 1852,
    "start_time": "2023-02-19T06:59:24.587Z"
   },
   {
    "duration": 1033,
    "start_time": "2023-02-19T06:59:26.441Z"
   },
   {
    "duration": 1364,
    "start_time": "2023-02-19T06:59:27.476Z"
   },
   {
    "duration": 930,
    "start_time": "2023-02-19T06:59:28.842Z"
   },
   {
    "duration": 4500,
    "start_time": "2023-02-19T06:59:29.773Z"
   },
   {
    "duration": 3,
    "start_time": "2023-02-19T06:59:34.275Z"
   },
   {
    "duration": 1305,
    "start_time": "2023-02-19T06:59:34.280Z"
   },
   {
    "duration": 415,
    "start_time": "2023-02-19T06:59:35.587Z"
   },
   {
    "duration": 435,
    "start_time": "2023-02-19T06:59:36.004Z"
   },
   {
    "duration": 33,
    "start_time": "2023-02-19T07:00:35.089Z"
   },
   {
    "duration": 380,
    "start_time": "2023-02-19T07:01:10.081Z"
   },
   {
    "duration": 2766,
    "start_time": "2023-02-19T07:01:26.621Z"
   },
   {
    "duration": 2352,
    "start_time": "2023-02-19T07:01:47.861Z"
   },
   {
    "duration": 1970,
    "start_time": "2023-02-19T07:01:56.912Z"
   },
   {
    "duration": 1660,
    "start_time": "2023-02-19T07:02:18.233Z"
   },
   {
    "duration": 1931,
    "start_time": "2023-02-19T07:02:27.836Z"
   },
   {
    "duration": 1603,
    "start_time": "2023-02-19T07:02:38.081Z"
   },
   {
    "duration": 1456,
    "start_time": "2023-02-19T07:02:45.485Z"
   },
   {
    "duration": 1740,
    "start_time": "2023-02-19T07:02:51.616Z"
   },
   {
    "duration": 1626,
    "start_time": "2023-02-19T07:03:07.346Z"
   },
   {
    "duration": 949,
    "start_time": "2023-02-19T07:04:52.318Z"
   },
   {
    "duration": 217,
    "start_time": "2023-02-19T07:05:14.953Z"
   },
   {
    "duration": 1254,
    "start_time": "2023-02-19T07:05:26.653Z"
   },
   {
    "duration": 16859,
    "start_time": "2023-02-19T07:05:27.909Z"
   },
   {
    "duration": 11684,
    "start_time": "2023-02-19T07:05:44.770Z"
   },
   {
    "duration": 82,
    "start_time": "2023-02-19T07:05:56.456Z"
   },
   {
    "duration": 12796,
    "start_time": "2023-02-19T07:05:56.542Z"
   },
   {
    "duration": 234,
    "start_time": "2023-02-19T07:06:09.340Z"
   },
   {
    "duration": 796,
    "start_time": "2023-02-19T07:06:09.576Z"
   },
   {
    "duration": 1970,
    "start_time": "2023-02-19T07:06:10.375Z"
   },
   {
    "duration": 1535,
    "start_time": "2023-02-19T07:06:12.350Z"
   },
   {
    "duration": 1490,
    "start_time": "2023-02-19T07:06:13.939Z"
   },
   {
    "duration": 1031,
    "start_time": "2023-02-19T07:06:15.431Z"
   },
   {
    "duration": 4344,
    "start_time": "2023-02-19T07:06:16.465Z"
   },
   {
    "duration": 2,
    "start_time": "2023-02-19T07:06:20.811Z"
   },
   {
    "duration": 1456,
    "start_time": "2023-02-19T07:06:20.815Z"
   },
   {
    "duration": 466,
    "start_time": "2023-02-19T07:06:22.273Z"
   },
   {
    "duration": 618,
    "start_time": "2023-02-19T07:06:22.741Z"
   },
   {
    "duration": 20,
    "start_time": "2023-02-19T07:06:23.361Z"
   },
   {
    "duration": 2718,
    "start_time": "2023-02-19T07:06:23.383Z"
   },
   {
    "duration": 961,
    "start_time": "2023-02-19T07:06:26.103Z"
   },
   {
    "duration": 200,
    "start_time": "2023-02-19T07:07:07.827Z"
   },
   {
    "duration": 470,
    "start_time": "2023-02-19T07:07:26.931Z"
   },
   {
    "duration": 3190,
    "start_time": "2023-02-19T07:08:07.563Z"
   },
   {
    "duration": 11881,
    "start_time": "2023-02-19T07:08:51.767Z"
   },
   {
    "duration": 9,
    "start_time": "2023-02-19T07:09:19.312Z"
   },
   {
    "duration": 1696,
    "start_time": "2023-02-19T07:14:26.939Z"
   },
   {
    "duration": 816,
    "start_time": "2023-02-19T07:14:53.991Z"
   },
   {
    "duration": 728,
    "start_time": "2023-02-19T07:15:35.931Z"
   },
   {
    "duration": 1399,
    "start_time": "2023-02-19T07:15:39.987Z"
   },
   {
    "duration": 5793,
    "start_time": "2023-02-19T07:22:25.349Z"
   },
   {
    "duration": 3768,
    "start_time": "2023-02-19T07:22:50.484Z"
   },
   {
    "duration": 7592,
    "start_time": "2023-02-19T07:23:29.264Z"
   },
   {
    "duration": 7067,
    "start_time": "2023-02-19T07:23:48.348Z"
   },
   {
    "duration": 4445,
    "start_time": "2023-02-19T07:24:16.944Z"
   },
   {
    "duration": 15,
    "start_time": "2023-02-19T07:24:45.805Z"
   },
   {
    "duration": 5,
    "start_time": "2023-02-19T07:25:13.489Z"
   },
   {
    "duration": 7063,
    "start_time": "2023-02-19T07:25:17.169Z"
   },
   {
    "duration": 507,
    "start_time": "2023-02-19T07:28:35.652Z"
   },
   {
    "duration": 3,
    "start_time": "2023-02-19T07:31:01.605Z"
   },
   {
    "duration": 111,
    "start_time": "2023-02-19T07:32:01.536Z"
   },
   {
    "duration": 149,
    "start_time": "2023-02-19T07:36:45.610Z"
   },
   {
    "duration": 10,
    "start_time": "2023-02-19T07:40:45.549Z"
   },
   {
    "duration": 8,
    "start_time": "2023-02-19T07:40:50.385Z"
   },
   {
    "duration": 10,
    "start_time": "2023-02-19T07:40:54.441Z"
   },
   {
    "duration": 53,
    "start_time": "2023-02-19T07:51:17.078Z"
   },
   {
    "duration": 1554,
    "start_time": "2023-02-19T07:52:20.209Z"
   },
   {
    "duration": 16427,
    "start_time": "2023-02-19T07:52:21.766Z"
   },
   {
    "duration": 10413,
    "start_time": "2023-02-19T07:52:38.238Z"
   },
   {
    "duration": 83,
    "start_time": "2023-02-19T07:52:48.656Z"
   },
   {
    "duration": 13098,
    "start_time": "2023-02-19T07:52:48.742Z"
   },
   {
    "duration": 229,
    "start_time": "2023-02-19T07:53:01.842Z"
   },
   {
    "duration": 814,
    "start_time": "2023-02-19T07:53:02.073Z"
   },
   {
    "duration": 1821,
    "start_time": "2023-02-19T07:53:02.939Z"
   },
   {
    "duration": 1404,
    "start_time": "2023-02-19T07:53:04.762Z"
   },
   {
    "duration": 2710,
    "start_time": "2023-02-19T07:53:06.171Z"
   },
   {
    "duration": 1085,
    "start_time": "2023-02-19T07:53:08.883Z"
   },
   {
    "duration": 5255,
    "start_time": "2023-02-19T07:53:09.970Z"
   },
   {
    "duration": 10,
    "start_time": "2023-02-19T07:53:15.228Z"
   },
   {
    "duration": 1411,
    "start_time": "2023-02-19T07:53:15.241Z"
   },
   {
    "duration": 390,
    "start_time": "2023-02-19T07:53:16.654Z"
   },
   {
    "duration": 596,
    "start_time": "2023-02-19T07:53:17.047Z"
   },
   {
    "duration": 92,
    "start_time": "2023-02-19T07:53:17.646Z"
   },
   {
    "duration": 2912,
    "start_time": "2023-02-19T07:53:17.740Z"
   },
   {
    "duration": 1105,
    "start_time": "2023-02-19T07:53:20.653Z"
   },
   {
    "duration": 647,
    "start_time": "2023-02-19T07:53:21.760Z"
   },
   {
    "duration": 2842,
    "start_time": "2023-02-19T07:53:22.410Z"
   },
   {
    "duration": 10784,
    "start_time": "2023-02-19T07:53:25.255Z"
   },
   {
    "duration": 10,
    "start_time": "2023-02-19T07:53:36.041Z"
   },
   {
    "duration": 50,
    "start_time": "2023-02-19T07:53:36.053Z"
   },
   {
    "duration": 1478,
    "start_time": "2023-02-19T08:21:21.446Z"
   },
   {
    "duration": 16820,
    "start_time": "2023-02-19T08:21:22.926Z"
   },
   {
    "duration": 9333,
    "start_time": "2023-02-19T08:21:39.748Z"
   },
   {
    "duration": 19,
    "start_time": "2023-02-19T08:21:49.142Z"
   },
   {
    "duration": 10894,
    "start_time": "2023-02-19T08:21:49.162Z"
   },
   {
    "duration": 217,
    "start_time": "2023-02-19T08:22:00.058Z"
   },
   {
    "duration": 685,
    "start_time": "2023-02-19T08:22:00.277Z"
   },
   {
    "duration": 1515,
    "start_time": "2023-02-19T08:22:00.964Z"
   },
   {
    "duration": 1008,
    "start_time": "2023-02-19T08:22:02.538Z"
   },
   {
    "duration": 2113,
    "start_time": "2023-02-19T08:22:03.549Z"
   },
   {
    "duration": 803,
    "start_time": "2023-02-19T08:22:05.664Z"
   },
   {
    "duration": 4980,
    "start_time": "2023-02-19T08:22:06.470Z"
   },
   {
    "duration": 3,
    "start_time": "2023-02-19T08:22:11.452Z"
   },
   {
    "duration": 1702,
    "start_time": "2023-02-19T08:22:11.457Z"
   },
   {
    "duration": 488,
    "start_time": "2023-02-19T08:22:13.161Z"
   },
   {
    "duration": 3288,
    "start_time": "2023-02-19T08:22:13.651Z"
   },
   {
    "duration": 1300,
    "start_time": "2023-02-19T08:22:16.941Z"
   },
   {
    "duration": 601,
    "start_time": "2023-02-19T08:22:18.244Z"
   },
   {
    "duration": 2927,
    "start_time": "2023-02-19T08:22:18.847Z"
   },
   {
    "duration": 10585,
    "start_time": "2023-02-19T08:22:21.776Z"
   },
   {
    "duration": 91,
    "start_time": "2023-02-19T08:22:32.363Z"
   },
   {
    "duration": 2095,
    "start_time": "2023-02-20T08:08:18.563Z"
   },
   {
    "duration": 19410,
    "start_time": "2023-02-20T08:08:20.662Z"
   },
   {
    "duration": 12346,
    "start_time": "2023-02-20T08:08:40.076Z"
   },
   {
    "duration": 27,
    "start_time": "2023-02-20T08:08:52.425Z"
   },
   {
    "duration": 14017,
    "start_time": "2023-02-20T08:08:52.520Z"
   },
   {
    "duration": 309,
    "start_time": "2023-02-20T08:09:06.539Z"
   },
   {
    "duration": 924,
    "start_time": "2023-02-20T08:09:06.851Z"
   },
   {
    "duration": 2138,
    "start_time": "2023-02-20T08:09:07.820Z"
   },
   {
    "duration": 1549,
    "start_time": "2023-02-20T08:09:09.961Z"
   },
   {
    "duration": 3790,
    "start_time": "2023-02-20T08:09:11.512Z"
   },
   {
    "duration": 1141,
    "start_time": "2023-02-20T08:09:15.305Z"
   },
   {
    "duration": 7351,
    "start_time": "2023-02-20T08:09:16.449Z"
   },
   {
    "duration": 4,
    "start_time": "2023-02-20T08:09:23.803Z"
   },
   {
    "duration": 2215,
    "start_time": "2023-02-20T08:09:23.823Z"
   },
   {
    "duration": 699,
    "start_time": "2023-02-20T08:09:26.040Z"
   },
   {
    "duration": 3389,
    "start_time": "2023-02-20T08:09:26.741Z"
   },
   {
    "duration": 1287,
    "start_time": "2023-02-20T08:09:30.133Z"
   },
   {
    "duration": 707,
    "start_time": "2023-02-20T08:09:31.423Z"
   },
   {
    "duration": 3288,
    "start_time": "2023-02-20T08:09:32.133Z"
   },
   {
    "duration": 14231,
    "start_time": "2023-02-20T08:09:35.424Z"
   },
   {
    "duration": 70,
    "start_time": "2023-02-20T08:09:49.657Z"
   },
   {
    "duration": 57,
    "start_time": "2023-02-20T08:27:17.411Z"
   },
   {
    "duration": 61,
    "start_time": "2023-02-20T12:03:15.908Z"
   },
   {
    "duration": 1546,
    "start_time": "2023-02-20T12:03:22.804Z"
   },
   {
    "duration": 21999,
    "start_time": "2023-02-20T12:03:24.351Z"
   },
   {
    "duration": 10128,
    "start_time": "2023-02-20T12:03:46.356Z"
   },
   {
    "duration": 85,
    "start_time": "2023-02-20T12:03:56.487Z"
   },
   {
    "duration": 10880,
    "start_time": "2023-02-20T12:03:56.574Z"
   },
   {
    "duration": 309,
    "start_time": "2023-02-20T12:04:07.457Z"
   },
   {
    "duration": 724,
    "start_time": "2023-02-20T12:04:07.769Z"
   },
   {
    "duration": 1598,
    "start_time": "2023-02-20T12:04:08.495Z"
   },
   {
    "duration": 1306,
    "start_time": "2023-02-20T12:04:10.157Z"
   },
   {
    "duration": 825,
    "start_time": "2023-02-20T12:04:11.467Z"
   },
   {
    "duration": 0,
    "start_time": "2023-02-20T12:04:12.295Z"
   },
   {
    "duration": 0,
    "start_time": "2023-02-20T12:04:12.296Z"
   },
   {
    "duration": 0,
    "start_time": "2023-02-20T12:04:12.298Z"
   },
   {
    "duration": 0,
    "start_time": "2023-02-20T12:04:12.299Z"
   },
   {
    "duration": 0,
    "start_time": "2023-02-20T12:04:12.301Z"
   },
   {
    "duration": 0,
    "start_time": "2023-02-20T12:04:12.302Z"
   },
   {
    "duration": 0,
    "start_time": "2023-02-20T12:04:12.304Z"
   },
   {
    "duration": 0,
    "start_time": "2023-02-20T12:04:12.305Z"
   },
   {
    "duration": 0,
    "start_time": "2023-02-20T12:04:12.306Z"
   },
   {
    "duration": 0,
    "start_time": "2023-02-20T12:04:12.308Z"
   },
   {
    "duration": 0,
    "start_time": "2023-02-20T12:04:12.310Z"
   },
   {
    "duration": 0,
    "start_time": "2023-02-20T12:04:12.311Z"
   },
   {
    "duration": 699,
    "start_time": "2023-02-20T12:05:33.080Z"
   },
   {
    "duration": 3054,
    "start_time": "2023-02-20T12:08:19.936Z"
   },
   {
    "duration": 681,
    "start_time": "2023-02-20T12:08:37.688Z"
   },
   {
    "duration": 2079,
    "start_time": "2023-02-20T12:08:45.417Z"
   },
   {
    "duration": 1082,
    "start_time": "2023-02-20T12:09:18.472Z"
   },
   {
    "duration": 9,
    "start_time": "2023-02-20T12:10:42.593Z"
   },
   {
    "duration": 1085,
    "start_time": "2023-02-20T12:10:49.405Z"
   },
   {
    "duration": 1386,
    "start_time": "2023-02-20T12:11:25.071Z"
   },
   {
    "duration": 954,
    "start_time": "2023-02-20T12:11:55.817Z"
   },
   {
    "duration": 884,
    "start_time": "2023-02-20T12:12:06.537Z"
   },
   {
    "duration": 2169,
    "start_time": "2023-02-20T12:12:09.878Z"
   },
   {
    "duration": 265,
    "start_time": "2023-02-20T12:12:52.213Z"
   },
   {
    "duration": 308,
    "start_time": "2023-02-20T12:13:03.581Z"
   },
   {
    "duration": 502,
    "start_time": "2023-02-20T12:13:37.993Z"
   },
   {
    "duration": 405,
    "start_time": "2023-02-20T12:13:39.660Z"
   },
   {
    "duration": 1975,
    "start_time": "2023-02-20T12:14:32.937Z"
   },
   {
    "duration": 1493,
    "start_time": "2023-02-20T12:19:02.750Z"
   },
   {
    "duration": 1604,
    "start_time": "2023-02-20T12:19:11.798Z"
   },
   {
    "duration": 1391,
    "start_time": "2023-02-20T12:19:44.079Z"
   },
   {
    "duration": 1244,
    "start_time": "2023-02-20T12:20:53.354Z"
   },
   {
    "duration": 16486,
    "start_time": "2023-02-20T12:20:54.600Z"
   },
   {
    "duration": 10189,
    "start_time": "2023-02-20T12:21:11.088Z"
   },
   {
    "duration": 76,
    "start_time": "2023-02-20T12:21:21.282Z"
   },
   {
    "duration": 11122,
    "start_time": "2023-02-20T12:21:21.362Z"
   },
   {
    "duration": 210,
    "start_time": "2023-02-20T12:21:32.486Z"
   },
   {
    "duration": 629,
    "start_time": "2023-02-20T12:21:32.758Z"
   },
   {
    "duration": 1767,
    "start_time": "2023-02-20T12:21:33.389Z"
   },
   {
    "duration": 1617,
    "start_time": "2023-02-20T12:21:35.162Z"
   },
   {
    "duration": 1978,
    "start_time": "2023-02-20T12:21:36.782Z"
   },
   {
    "duration": 3677,
    "start_time": "2023-02-20T12:21:38.762Z"
   },
   {
    "duration": 0,
    "start_time": "2023-02-20T12:21:42.441Z"
   },
   {
    "duration": 0,
    "start_time": "2023-02-20T12:21:42.443Z"
   },
   {
    "duration": 0,
    "start_time": "2023-02-20T12:21:42.444Z"
   },
   {
    "duration": 0,
    "start_time": "2023-02-20T12:21:42.446Z"
   },
   {
    "duration": 0,
    "start_time": "2023-02-20T12:21:42.447Z"
   },
   {
    "duration": 0,
    "start_time": "2023-02-20T12:21:42.449Z"
   },
   {
    "duration": 0,
    "start_time": "2023-02-20T12:21:42.451Z"
   },
   {
    "duration": 0,
    "start_time": "2023-02-20T12:21:42.452Z"
   },
   {
    "duration": 0,
    "start_time": "2023-02-20T12:21:42.454Z"
   },
   {
    "duration": 0,
    "start_time": "2023-02-20T12:21:42.455Z"
   },
   {
    "duration": 0,
    "start_time": "2023-02-20T12:21:42.456Z"
   },
   {
    "duration": 1599,
    "start_time": "2023-02-20T12:22:40.203Z"
   },
   {
    "duration": 135,
    "start_time": "2023-02-20T12:27:43.531Z"
   },
   {
    "duration": 1316,
    "start_time": "2023-02-20T12:27:50.212Z"
   },
   {
    "duration": 1364,
    "start_time": "2023-02-20T12:28:10.870Z"
   },
   {
    "duration": 1104,
    "start_time": "2023-02-20T12:29:57.543Z"
   },
   {
    "duration": 1171,
    "start_time": "2023-02-20T12:30:06.328Z"
   },
   {
    "duration": 22,
    "start_time": "2023-02-20T12:30:09.455Z"
   },
   {
    "duration": 14,
    "start_time": "2023-02-20T12:30:26.307Z"
   },
   {
    "duration": 1302,
    "start_time": "2023-02-20T12:31:37.093Z"
   },
   {
    "duration": 971,
    "start_time": "2023-02-20T12:31:53.362Z"
   },
   {
    "duration": 1386,
    "start_time": "2023-02-20T12:31:58.139Z"
   },
   {
    "duration": 912,
    "start_time": "2023-02-20T12:32:09.311Z"
   },
   {
    "duration": 1010,
    "start_time": "2023-02-20T12:32:14.308Z"
   },
   {
    "duration": 1131,
    "start_time": "2023-02-20T12:33:40.366Z"
   },
   {
    "duration": 12,
    "start_time": "2023-02-20T12:33:49.991Z"
   },
   {
    "duration": 9,
    "start_time": "2023-02-20T12:34:02.266Z"
   },
   {
    "duration": 11,
    "start_time": "2023-02-20T12:34:06.176Z"
   },
   {
    "duration": 509,
    "start_time": "2023-02-20T12:34:13.747Z"
   },
   {
    "duration": 5,
    "start_time": "2023-02-20T12:34:17.787Z"
   },
   {
    "duration": 398,
    "start_time": "2023-02-20T12:34:18.599Z"
   },
   {
    "duration": 10,
    "start_time": "2023-02-20T12:34:25.003Z"
   },
   {
    "duration": 132,
    "start_time": "2023-02-20T12:36:20.226Z"
   },
   {
    "duration": 454,
    "start_time": "2023-02-20T12:36:26.702Z"
   },
   {
    "duration": 11,
    "start_time": "2023-02-20T12:36:39.402Z"
   },
   {
    "duration": 15,
    "start_time": "2023-02-20T12:36:55.364Z"
   },
   {
    "duration": 15,
    "start_time": "2023-02-20T12:37:00.095Z"
   },
   {
    "duration": 11,
    "start_time": "2023-02-20T12:37:02.933Z"
   },
   {
    "duration": 20,
    "start_time": "2023-02-20T12:37:07.642Z"
   },
   {
    "duration": 5,
    "start_time": "2023-02-20T12:37:13.338Z"
   },
   {
    "duration": 5,
    "start_time": "2023-02-20T12:37:14.610Z"
   },
   {
    "duration": 455,
    "start_time": "2023-02-20T12:37:15.014Z"
   },
   {
    "duration": 4,
    "start_time": "2023-02-20T12:37:16.838Z"
   },
   {
    "duration": 4450,
    "start_time": "2023-02-20T12:37:24.966Z"
   },
   {
    "duration": 49,
    "start_time": "2023-02-20T12:37:29.417Z"
   },
   {
    "duration": 307,
    "start_time": "2023-02-20T12:37:29.470Z"
   },
   {
    "duration": 609,
    "start_time": "2023-02-20T12:37:29.779Z"
   },
   {
    "duration": 568,
    "start_time": "2023-02-20T12:37:30.390Z"
   },
   {
    "duration": 245,
    "start_time": "2023-02-20T12:37:30.960Z"
   },
   {
    "duration": 10,
    "start_time": "2023-02-20T12:37:34.410Z"
   },
   {
    "duration": 986,
    "start_time": "2023-02-20T12:39:55.418Z"
   },
   {
    "duration": 248,
    "start_time": "2023-02-20T12:40:06.138Z"
   },
   {
    "duration": 786,
    "start_time": "2023-02-20T12:40:10.922Z"
   },
   {
    "duration": 129,
    "start_time": "2023-02-20T12:40:12.505Z"
   },
   {
    "duration": 161,
    "start_time": "2023-02-20T12:40:24.218Z"
   },
   {
    "duration": 949,
    "start_time": "2023-02-20T12:40:27.773Z"
   },
   {
    "duration": 1859,
    "start_time": "2023-02-20T12:40:47.605Z"
   },
   {
    "duration": 9,
    "start_time": "2023-02-20T12:43:24.172Z"
   },
   {
    "duration": 1175,
    "start_time": "2023-02-20T12:43:29.103Z"
   },
   {
    "duration": 15907,
    "start_time": "2023-02-20T12:43:30.279Z"
   },
   {
    "duration": 9493,
    "start_time": "2023-02-20T12:43:46.188Z"
   },
   {
    "duration": 77,
    "start_time": "2023-02-20T12:43:55.684Z"
   },
   {
    "duration": 11017,
    "start_time": "2023-02-20T12:43:55.763Z"
   },
   {
    "duration": 285,
    "start_time": "2023-02-20T12:44:06.782Z"
   },
   {
    "duration": 716,
    "start_time": "2023-02-20T12:44:07.075Z"
   },
   {
    "duration": 1501,
    "start_time": "2023-02-20T12:44:07.794Z"
   },
   {
    "duration": 1759,
    "start_time": "2023-02-20T12:44:09.297Z"
   },
   {
    "duration": 1327,
    "start_time": "2023-02-20T12:44:11.059Z"
   },
   {
    "duration": 2484,
    "start_time": "2023-02-20T12:44:12.388Z"
   },
   {
    "duration": 591,
    "start_time": "2023-02-20T12:44:14.874Z"
   },
   {
    "duration": 5780,
    "start_time": "2023-02-20T12:44:15.467Z"
   },
   {
    "duration": 15,
    "start_time": "2023-02-20T12:44:21.253Z"
   },
   {
    "duration": 1599,
    "start_time": "2023-02-20T12:44:21.270Z"
   },
   {
    "duration": 502,
    "start_time": "2023-02-20T12:44:22.871Z"
   },
   {
    "duration": 2509,
    "start_time": "2023-02-20T12:44:23.376Z"
   },
   {
    "duration": 903,
    "start_time": "2023-02-20T12:44:25.887Z"
   },
   {
    "duration": 480,
    "start_time": "2023-02-20T12:44:26.791Z"
   },
   {
    "duration": 2404,
    "start_time": "2023-02-20T12:44:27.273Z"
   },
   {
    "duration": 10783,
    "start_time": "2023-02-20T12:44:29.679Z"
   },
   {
    "duration": 12,
    "start_time": "2023-02-20T12:44:40.463Z"
   },
   {
    "duration": 2145,
    "start_time": "2023-02-20T12:48:28.924Z"
   },
   {
    "duration": 3395,
    "start_time": "2023-02-20T12:51:33.632Z"
   },
   {
    "duration": 9,
    "start_time": "2023-02-20T12:51:43.183Z"
   },
   {
    "duration": 2780,
    "start_time": "2023-02-20T12:52:05.016Z"
   },
   {
    "duration": 1876,
    "start_time": "2023-02-20T12:52:42.632Z"
   },
   {
    "duration": 1534,
    "start_time": "2023-02-20T12:56:15.052Z"
   },
   {
    "duration": 5734,
    "start_time": "2023-02-20T12:57:12.724Z"
   },
   {
    "duration": 1965,
    "start_time": "2023-02-20T12:57:24.492Z"
   },
   {
    "duration": 1714,
    "start_time": "2023-02-20T12:57:31.148Z"
   },
   {
    "duration": 74,
    "start_time": "2023-02-20T12:57:43.374Z"
   },
   {
    "duration": 3725,
    "start_time": "2023-02-20T12:57:46.967Z"
   },
   {
    "duration": 4411,
    "start_time": "2023-02-20T12:57:53.393Z"
   },
   {
    "duration": 3793,
    "start_time": "2023-02-20T12:58:19.908Z"
   },
   {
    "duration": 1600,
    "start_time": "2023-02-20T12:58:56.612Z"
   },
   {
    "duration": 3438,
    "start_time": "2023-02-20T12:59:08.769Z"
   },
   {
    "duration": 1567,
    "start_time": "2023-02-20T12:59:23.970Z"
   },
   {
    "duration": 1057,
    "start_time": "2023-02-20T13:09:42.976Z"
   },
   {
    "duration": 1602,
    "start_time": "2023-02-20T13:10:16.385Z"
   },
   {
    "duration": 1706,
    "start_time": "2023-02-20T13:10:37.781Z"
   },
   {
    "duration": 3553,
    "start_time": "2023-02-20T13:10:48.453Z"
   },
   {
    "duration": 1491,
    "start_time": "2023-02-20T13:11:01.409Z"
   },
   {
    "duration": 8,
    "start_time": "2023-02-20T13:11:07.529Z"
   },
   {
    "duration": 1400,
    "start_time": "2023-02-20T13:11:33.002Z"
   },
   {
    "duration": 1547,
    "start_time": "2023-02-20T13:17:26.391Z"
   },
   {
    "duration": 1403,
    "start_time": "2023-02-20T13:17:52.279Z"
   },
   {
    "duration": 1128,
    "start_time": "2023-02-20T13:17:57.682Z"
   },
   {
    "duration": 1374,
    "start_time": "2023-02-20T13:18:21.231Z"
   },
   {
    "duration": 962,
    "start_time": "2023-02-20T13:18:41.935Z"
   },
   {
    "duration": 1025,
    "start_time": "2023-02-20T13:18:50.103Z"
   },
   {
    "duration": 1648,
    "start_time": "2023-02-20T13:22:42.736Z"
   },
   {
    "duration": 276,
    "start_time": "2023-02-20T13:25:51.981Z"
   },
   {
    "duration": 22,
    "start_time": "2023-02-20T13:25:55.717Z"
   },
   {
    "duration": 22,
    "start_time": "2023-02-20T13:26:00.176Z"
   },
   {
    "duration": 110,
    "start_time": "2023-02-20T13:37:10.538Z"
   },
   {
    "duration": 5,
    "start_time": "2023-02-20T13:37:18.097Z"
   },
   {
    "duration": 25,
    "start_time": "2023-02-20T13:37:24.902Z"
   },
   {
    "duration": 31,
    "start_time": "2023-02-20T13:44:56.988Z"
   },
   {
    "duration": 32,
    "start_time": "2023-02-20T13:45:17.950Z"
   },
   {
    "duration": 1302,
    "start_time": "2023-02-20T13:45:25.070Z"
   },
   {
    "duration": 17223,
    "start_time": "2023-02-20T13:45:26.375Z"
   },
   {
    "duration": 10174,
    "start_time": "2023-02-20T13:45:43.600Z"
   },
   {
    "duration": 72,
    "start_time": "2023-02-20T13:45:53.784Z"
   },
   {
    "duration": 11918,
    "start_time": "2023-02-20T13:45:53.858Z"
   },
   {
    "duration": 218,
    "start_time": "2023-02-20T13:46:05.778Z"
   },
   {
    "duration": 887,
    "start_time": "2023-02-20T13:46:05.998Z"
   },
   {
    "duration": 1583,
    "start_time": "2023-02-20T13:46:06.887Z"
   },
   {
    "duration": 1979,
    "start_time": "2023-02-20T13:46:08.473Z"
   },
   {
    "duration": 1330,
    "start_time": "2023-02-20T13:46:10.457Z"
   },
   {
    "duration": 2576,
    "start_time": "2023-02-20T13:46:11.789Z"
   },
   {
    "duration": 589,
    "start_time": "2023-02-20T13:46:14.367Z"
   },
   {
    "duration": 4342,
    "start_time": "2023-02-20T13:46:14.958Z"
   },
   {
    "duration": 3,
    "start_time": "2023-02-20T13:46:19.302Z"
   },
   {
    "duration": 1406,
    "start_time": "2023-02-20T13:46:19.307Z"
   },
   {
    "duration": 458,
    "start_time": "2023-02-20T13:46:20.714Z"
   },
   {
    "duration": 2589,
    "start_time": "2023-02-20T13:46:21.178Z"
   },
   {
    "duration": 821,
    "start_time": "2023-02-20T13:46:23.768Z"
   },
   {
    "duration": 477,
    "start_time": "2023-02-20T13:46:24.591Z"
   },
   {
    "duration": 3302,
    "start_time": "2023-02-20T13:46:25.072Z"
   },
   {
    "duration": 6082,
    "start_time": "2023-02-20T13:46:28.375Z"
   },
   {
    "duration": 0,
    "start_time": "2023-02-20T13:46:34.462Z"
   },
   {
    "duration": 0,
    "start_time": "2023-02-20T13:46:34.463Z"
   },
   {
    "duration": 2516,
    "start_time": "2023-02-20T14:38:38.351Z"
   },
   {
    "duration": 4282,
    "start_time": "2023-02-20T14:38:56.603Z"
   },
   {
    "duration": 2196,
    "start_time": "2023-02-20T14:39:07.972Z"
   },
   {
    "duration": 5333,
    "start_time": "2023-02-20T14:39:50.955Z"
   },
   {
    "duration": 4112,
    "start_time": "2023-02-20T14:40:16.551Z"
   },
   {
    "duration": 1317,
    "start_time": "2023-02-20T14:40:40.843Z"
   },
   {
    "duration": 1328,
    "start_time": "2023-02-20T14:40:46.343Z"
   },
   {
    "duration": 4114,
    "start_time": "2023-02-20T14:40:49.048Z"
   },
   {
    "duration": 3766,
    "start_time": "2023-02-20T14:45:39.920Z"
   },
   {
    "duration": 1186,
    "start_time": "2023-02-20T14:45:53.893Z"
   },
   {
    "duration": 1276,
    "start_time": "2023-02-20T14:49:36.404Z"
   },
   {
    "duration": 1105,
    "start_time": "2023-02-20T14:49:52.797Z"
   },
   {
    "duration": 1131,
    "start_time": "2023-02-20T14:50:06.653Z"
   },
   {
    "duration": 1021,
    "start_time": "2023-02-20T14:50:19.776Z"
   },
   {
    "duration": 1052,
    "start_time": "2023-02-20T14:50:25.940Z"
   },
   {
    "duration": 1028,
    "start_time": "2023-02-20T14:50:29.285Z"
   },
   {
    "duration": 2060,
    "start_time": "2023-02-20T14:52:09.095Z"
   },
   {
    "duration": 3849,
    "start_time": "2023-02-20T14:52:18.821Z"
   },
   {
    "duration": 1493,
    "start_time": "2023-02-20T14:52:30.057Z"
   },
   {
    "duration": 1520,
    "start_time": "2023-02-20T14:52:38.272Z"
   },
   {
    "duration": 3250,
    "start_time": "2023-02-20T14:52:53.704Z"
   },
   {
    "duration": 2066,
    "start_time": "2023-02-20T14:53:07.337Z"
   },
   {
    "duration": 2014,
    "start_time": "2023-02-20T14:55:10.592Z"
   },
   {
    "duration": 2207,
    "start_time": "2023-02-20T14:55:19.669Z"
   },
   {
    "duration": 1150,
    "start_time": "2023-02-20T14:55:29.505Z"
   },
   {
    "duration": 1114,
    "start_time": "2023-02-20T14:56:26.385Z"
   },
   {
    "duration": 3103,
    "start_time": "2023-02-20T14:56:32.068Z"
   },
   {
    "duration": 2818,
    "start_time": "2023-02-20T14:57:11.577Z"
   },
   {
    "duration": 2928,
    "start_time": "2023-02-20T14:57:22.481Z"
   },
   {
    "duration": 2339,
    "start_time": "2023-02-20T14:57:51.365Z"
   },
   {
    "duration": 1118,
    "start_time": "2023-02-20T14:58:05.338Z"
   },
   {
    "duration": 2978,
    "start_time": "2023-02-20T14:58:09.919Z"
   },
   {
    "duration": 1024,
    "start_time": "2023-02-20T14:58:24.337Z"
   },
   {
    "duration": 1056,
    "start_time": "2023-02-20T14:58:37.549Z"
   },
   {
    "duration": 1074,
    "start_time": "2023-02-20T14:58:40.057Z"
   },
   {
    "duration": 6,
    "start_time": "2023-02-20T14:59:08.845Z"
   },
   {
    "duration": 959,
    "start_time": "2023-02-20T14:59:13.117Z"
   },
   {
    "duration": 8,
    "start_time": "2023-02-20T15:01:32.038Z"
   },
   {
    "duration": 1035,
    "start_time": "2023-02-20T15:03:07.421Z"
   },
   {
    "duration": 1476,
    "start_time": "2023-02-20T15:03:18.270Z"
   },
   {
    "duration": 1070,
    "start_time": "2023-02-20T15:03:36.010Z"
   },
   {
    "duration": 1148,
    "start_time": "2023-02-20T15:03:57.349Z"
   },
   {
    "duration": 1540,
    "start_time": "2023-02-20T15:04:23.941Z"
   },
   {
    "duration": 101,
    "start_time": "2023-02-20T15:14:42.758Z"
   },
   {
    "duration": 1955,
    "start_time": "2023-02-20T15:14:46.415Z"
   },
   {
    "duration": 1910,
    "start_time": "2023-02-20T15:17:29.003Z"
   },
   {
    "duration": 943,
    "start_time": "2023-02-20T15:17:40.531Z"
   },
   {
    "duration": 1257,
    "start_time": "2023-02-20T15:18:22.127Z"
   },
   {
    "duration": 1154,
    "start_time": "2023-02-20T15:18:32.735Z"
   },
   {
    "duration": 1156,
    "start_time": "2023-02-20T15:18:40.015Z"
   },
   {
    "duration": 3738,
    "start_time": "2023-02-20T15:21:36.623Z"
   },
   {
    "duration": 3209,
    "start_time": "2023-02-20T15:21:45.455Z"
   },
   {
    "duration": 8,
    "start_time": "2023-02-20T15:21:48.666Z"
   },
   {
    "duration": 9,
    "start_time": "2023-02-20T15:21:53.715Z"
   },
   {
    "duration": 250,
    "start_time": "2023-02-20T15:23:47.531Z"
   },
   {
    "duration": 1224,
    "start_time": "2023-02-20T15:23:56.144Z"
   },
   {
    "duration": 15025,
    "start_time": "2023-02-20T15:23:57.370Z"
   },
   {
    "duration": 8167,
    "start_time": "2023-02-20T15:24:12.397Z"
   },
   {
    "duration": 17,
    "start_time": "2023-02-20T15:24:20.565Z"
   },
   {
    "duration": 8896,
    "start_time": "2023-02-20T15:24:20.584Z"
   },
   {
    "duration": 204,
    "start_time": "2023-02-20T15:24:29.482Z"
   },
   {
    "duration": 575,
    "start_time": "2023-02-20T15:24:29.687Z"
   },
   {
    "duration": 1124,
    "start_time": "2023-02-20T15:24:30.264Z"
   },
   {
    "duration": 1367,
    "start_time": "2023-02-20T15:24:31.390Z"
   },
   {
    "duration": 1034,
    "start_time": "2023-02-20T15:24:32.759Z"
   },
   {
    "duration": 2195,
    "start_time": "2023-02-20T15:24:33.794Z"
   },
   {
    "duration": 587,
    "start_time": "2023-02-20T15:24:35.991Z"
   },
   {
    "duration": 3752,
    "start_time": "2023-02-20T15:24:36.580Z"
   },
   {
    "duration": 3,
    "start_time": "2023-02-20T15:24:40.334Z"
   },
   {
    "duration": 1442,
    "start_time": "2023-02-20T15:24:40.338Z"
   },
   {
    "duration": 416,
    "start_time": "2023-02-20T15:24:41.782Z"
   },
   {
    "duration": 2559,
    "start_time": "2023-02-20T15:24:42.200Z"
   },
   {
    "duration": 996,
    "start_time": "2023-02-20T15:24:44.760Z"
   },
   {
    "duration": 401,
    "start_time": "2023-02-20T15:24:45.758Z"
   },
   {
    "duration": 2902,
    "start_time": "2023-02-20T15:24:46.161Z"
   },
   {
    "duration": 9514,
    "start_time": "2023-02-20T15:24:49.065Z"
   },
   {
    "duration": 73,
    "start_time": "2023-02-20T15:24:58.581Z"
   },
   {
    "duration": 927,
    "start_time": "2023-02-20T15:24:58.655Z"
   },
   {
    "duration": 1532,
    "start_time": "2023-02-21T10:43:09.297Z"
   },
   {
    "duration": 16050,
    "start_time": "2023-02-21T10:43:10.831Z"
   },
   {
    "duration": 10056,
    "start_time": "2023-02-21T10:43:26.883Z"
   },
   {
    "duration": 26,
    "start_time": "2023-02-21T10:43:36.940Z"
   },
   {
    "duration": 11588,
    "start_time": "2023-02-21T10:43:36.969Z"
   },
   {
    "duration": 207,
    "start_time": "2023-02-21T10:43:48.559Z"
   },
   {
    "duration": 691,
    "start_time": "2023-02-21T10:43:48.768Z"
   },
   {
    "duration": 1610,
    "start_time": "2023-02-21T10:43:49.461Z"
   },
   {
    "duration": 1673,
    "start_time": "2023-02-21T10:43:51.072Z"
   },
   {
    "duration": 1232,
    "start_time": "2023-02-21T10:43:52.747Z"
   },
   {
    "duration": 2642,
    "start_time": "2023-02-21T10:43:53.980Z"
   },
   {
    "duration": 621,
    "start_time": "2023-02-21T10:43:56.624Z"
   },
   {
    "duration": 4700,
    "start_time": "2023-02-21T10:43:57.248Z"
   },
   {
    "duration": 3,
    "start_time": "2023-02-21T10:44:01.959Z"
   },
   {
    "duration": 1577,
    "start_time": "2023-02-21T10:44:01.964Z"
   },
   {
    "duration": 450,
    "start_time": "2023-02-21T10:44:03.542Z"
   },
   {
    "duration": 2939,
    "start_time": "2023-02-21T10:44:04.038Z"
   },
   {
    "duration": 988,
    "start_time": "2023-02-21T10:44:06.979Z"
   },
   {
    "duration": 568,
    "start_time": "2023-02-21T10:44:07.970Z"
   },
   {
    "duration": 2599,
    "start_time": "2023-02-21T10:44:08.541Z"
   },
   {
    "duration": 4396,
    "start_time": "2023-02-21T10:44:11.150Z"
   },
   {
    "duration": 1247,
    "start_time": "2023-02-21T10:49:25.520Z"
   },
   {
    "duration": 8181,
    "start_time": "2023-02-21T10:49:26.770Z"
   },
   {
    "duration": 9,
    "start_time": "2023-02-21T10:49:44.891Z"
   },
   {
    "duration": 4575,
    "start_time": "2023-02-21T10:49:57.589Z"
   },
   {
    "duration": 2989,
    "start_time": "2023-02-21T10:50:08.842Z"
   },
   {
    "duration": 7,
    "start_time": "2023-02-21T10:50:53.644Z"
   },
   {
    "duration": 8,
    "start_time": "2023-02-21T10:51:06.128Z"
   },
   {
    "duration": 4,
    "start_time": "2023-02-21T10:51:15.146Z"
   },
   {
    "duration": 621,
    "start_time": "2023-02-21T10:51:21.062Z"
   },
   {
    "duration": 6,
    "start_time": "2023-02-21T10:51:45.149Z"
   },
   {
    "duration": 1737,
    "start_time": "2023-02-21T10:54:48.147Z"
   },
   {
    "duration": 1322,
    "start_time": "2023-02-21T10:56:39.866Z"
   },
   {
    "duration": 4,
    "start_time": "2023-02-21T10:56:45.221Z"
   },
   {
    "duration": 5,
    "start_time": "2023-02-21T10:58:13.197Z"
   },
   {
    "duration": 11,
    "start_time": "2023-02-21T10:58:29.680Z"
   },
   {
    "duration": 6,
    "start_time": "2023-02-21T10:58:45.326Z"
   },
   {
    "duration": 23,
    "start_time": "2023-02-21T10:58:46.629Z"
   },
   {
    "duration": 13,
    "start_time": "2023-02-21T10:59:07.826Z"
   },
   {
    "duration": 2807,
    "start_time": "2023-02-21T10:59:18.424Z"
   },
   {
    "duration": 10,
    "start_time": "2023-02-21T10:59:31.811Z"
   },
   {
    "duration": 12,
    "start_time": "2023-02-21T10:59:57.068Z"
   },
   {
    "duration": 8,
    "start_time": "2023-02-21T11:01:52.828Z"
   },
   {
    "duration": 11,
    "start_time": "2023-02-21T11:02:03.951Z"
   },
   {
    "duration": 9,
    "start_time": "2023-02-21T11:02:19.596Z"
   },
   {
    "duration": 3,
    "start_time": "2023-02-21T11:02:24.319Z"
   },
   {
    "duration": 28,
    "start_time": "2023-02-21T11:03:01.046Z"
   },
   {
    "duration": 5,
    "start_time": "2023-02-21T11:03:06.962Z"
   },
   {
    "duration": 8,
    "start_time": "2023-02-21T11:03:10.073Z"
   },
   {
    "duration": 6,
    "start_time": "2023-02-21T11:03:11.263Z"
   },
   {
    "duration": 19,
    "start_time": "2023-02-21T11:03:15.565Z"
   },
   {
    "duration": 4,
    "start_time": "2023-02-21T11:03:24.626Z"
   },
   {
    "duration": 141,
    "start_time": "2023-02-21T11:03:31.884Z"
   },
   {
    "duration": 5520,
    "start_time": "2023-02-21T11:04:05.228Z"
   },
   {
    "duration": 9,
    "start_time": "2023-02-21T11:04:16.767Z"
   },
   {
    "duration": 1338,
    "start_time": "2023-02-21T11:06:49.683Z"
   },
   {
    "duration": 16842,
    "start_time": "2023-02-21T11:06:51.023Z"
   },
   {
    "duration": 11095,
    "start_time": "2023-02-21T11:07:07.867Z"
   },
   {
    "duration": 78,
    "start_time": "2023-02-21T11:07:18.965Z"
   },
   {
    "duration": 12139,
    "start_time": "2023-02-21T11:07:19.045Z"
   },
   {
    "duration": 235,
    "start_time": "2023-02-21T11:07:31.238Z"
   },
   {
    "duration": 864,
    "start_time": "2023-02-21T11:07:31.475Z"
   },
   {
    "duration": 1822,
    "start_time": "2023-02-21T11:07:32.348Z"
   },
   {
    "duration": 1871,
    "start_time": "2023-02-21T11:07:34.172Z"
   },
   {
    "duration": 1435,
    "start_time": "2023-02-21T11:07:36.044Z"
   },
   {
    "duration": 2948,
    "start_time": "2023-02-21T11:07:37.481Z"
   },
   {
    "duration": 635,
    "start_time": "2023-02-21T11:07:40.430Z"
   },
   {
    "duration": 4642,
    "start_time": "2023-02-21T11:07:41.067Z"
   },
   {
    "duration": 3,
    "start_time": "2023-02-21T11:07:45.712Z"
   },
   {
    "duration": 1755,
    "start_time": "2023-02-21T11:07:45.717Z"
   },
   {
    "duration": 527,
    "start_time": "2023-02-21T11:07:47.478Z"
   },
   {
    "duration": 2918,
    "start_time": "2023-02-21T11:07:48.007Z"
   },
   {
    "duration": 1118,
    "start_time": "2023-02-21T11:07:50.927Z"
   },
   {
    "duration": 542,
    "start_time": "2023-02-21T11:07:52.047Z"
   },
   {
    "duration": 2770,
    "start_time": "2023-02-21T11:07:52.592Z"
   },
   {
    "duration": 4106,
    "start_time": "2023-02-21T11:07:55.364Z"
   },
   {
    "duration": 0,
    "start_time": "2023-02-21T11:07:59.472Z"
   },
   {
    "duration": 0,
    "start_time": "2023-02-21T11:07:59.473Z"
   },
   {
    "duration": 10585,
    "start_time": "2023-02-21T11:08:12.279Z"
   },
   {
    "duration": 6,
    "start_time": "2023-02-21T11:11:23.290Z"
   },
   {
    "duration": 1467,
    "start_time": "2023-02-21T13:51:31.136Z"
   },
   {
    "duration": 1936,
    "start_time": "2023-02-21T13:51:32.605Z"
   },
   {
    "duration": 0,
    "start_time": "2023-02-21T13:51:34.545Z"
   },
   {
    "duration": 0,
    "start_time": "2023-02-21T13:51:34.547Z"
   },
   {
    "duration": 0,
    "start_time": "2023-02-21T13:51:34.549Z"
   },
   {
    "duration": 0,
    "start_time": "2023-02-21T13:51:34.551Z"
   },
   {
    "duration": 0,
    "start_time": "2023-02-21T13:51:34.621Z"
   },
   {
    "duration": 0,
    "start_time": "2023-02-21T13:51:34.623Z"
   },
   {
    "duration": 0,
    "start_time": "2023-02-21T13:51:34.625Z"
   },
   {
    "duration": 0,
    "start_time": "2023-02-21T13:51:34.627Z"
   },
   {
    "duration": 0,
    "start_time": "2023-02-21T13:51:34.628Z"
   },
   {
    "duration": 0,
    "start_time": "2023-02-21T13:51:34.630Z"
   },
   {
    "duration": 0,
    "start_time": "2023-02-21T13:51:34.632Z"
   },
   {
    "duration": 0,
    "start_time": "2023-02-21T13:51:34.634Z"
   },
   {
    "duration": 0,
    "start_time": "2023-02-21T13:51:34.636Z"
   },
   {
    "duration": 0,
    "start_time": "2023-02-21T13:51:34.637Z"
   },
   {
    "duration": 0,
    "start_time": "2023-02-21T13:51:34.639Z"
   },
   {
    "duration": 0,
    "start_time": "2023-02-21T13:51:34.721Z"
   },
   {
    "duration": 0,
    "start_time": "2023-02-21T13:51:34.722Z"
   },
   {
    "duration": 0,
    "start_time": "2023-02-21T13:51:34.724Z"
   },
   {
    "duration": 0,
    "start_time": "2023-02-21T13:51:34.725Z"
   },
   {
    "duration": 0,
    "start_time": "2023-02-21T13:51:34.726Z"
   },
   {
    "duration": 0,
    "start_time": "2023-02-21T13:51:34.727Z"
   },
   {
    "duration": 15834,
    "start_time": "2023-02-21T13:51:45.519Z"
   },
   {
    "duration": 9480,
    "start_time": "2023-02-21T13:52:01.356Z"
   },
   {
    "duration": 82,
    "start_time": "2023-02-21T13:52:10.839Z"
   },
   {
    "duration": 10327,
    "start_time": "2023-02-21T13:52:10.926Z"
   },
   {
    "duration": 265,
    "start_time": "2023-02-21T13:52:21.255Z"
   },
   {
    "duration": 616,
    "start_time": "2023-02-21T13:52:21.522Z"
   },
   {
    "duration": 1298,
    "start_time": "2023-02-21T13:52:22.140Z"
   },
   {
    "duration": 1604,
    "start_time": "2023-02-21T13:52:23.440Z"
   },
   {
    "duration": 1180,
    "start_time": "2023-02-21T13:52:25.046Z"
   },
   {
    "duration": 2426,
    "start_time": "2023-02-21T13:52:26.229Z"
   },
   {
    "duration": 586,
    "start_time": "2023-02-21T13:52:28.657Z"
   },
   {
    "duration": 5739,
    "start_time": "2023-02-21T13:52:29.245Z"
   },
   {
    "duration": 4,
    "start_time": "2023-02-21T13:52:34.987Z"
   },
   {
    "duration": 1807,
    "start_time": "2023-02-21T13:52:34.993Z"
   },
   {
    "duration": 429,
    "start_time": "2023-02-21T13:52:36.804Z"
   },
   {
    "duration": 3048,
    "start_time": "2023-02-21T13:52:37.235Z"
   },
   {
    "duration": 968,
    "start_time": "2023-02-21T13:52:40.285Z"
   },
   {
    "duration": 405,
    "start_time": "2023-02-21T13:52:41.321Z"
   },
   {
    "duration": 2600,
    "start_time": "2023-02-21T13:52:41.729Z"
   },
   {
    "duration": 4088,
    "start_time": "2023-02-21T13:52:48.480Z"
   },
   {
    "duration": 2669,
    "start_time": "2023-02-21T13:53:25.268Z"
   },
   {
    "duration": 2293,
    "start_time": "2023-02-21T13:53:43.252Z"
   },
   {
    "duration": 2186,
    "start_time": "2023-02-21T13:53:49.048Z"
   },
   {
    "duration": 5390,
    "start_time": "2023-02-21T13:54:16.919Z"
   },
   {
    "duration": 9,
    "start_time": "2023-02-21T13:54:41.780Z"
   },
   {
    "duration": 1741,
    "start_time": "2023-02-21T13:55:10.393Z"
   },
   {
    "duration": 1487,
    "start_time": "2023-02-21T13:56:11.952Z"
   },
   {
    "duration": 1364,
    "start_time": "2023-02-21T13:56:24.361Z"
   },
   {
    "duration": 1578,
    "start_time": "2023-02-21T13:56:33.670Z"
   },
   {
    "duration": 1545,
    "start_time": "2023-02-21T13:57:03.981Z"
   },
   {
    "duration": 1632,
    "start_time": "2023-02-21T13:57:07.219Z"
   },
   {
    "duration": 1599,
    "start_time": "2023-02-21T13:57:12.366Z"
   },
   {
    "duration": 1356,
    "start_time": "2023-02-21T13:57:19.197Z"
   },
   {
    "duration": 1183,
    "start_time": "2023-02-21T14:02:16.686Z"
   },
   {
    "duration": 1374,
    "start_time": "2023-02-21T14:02:24.085Z"
   },
   {
    "duration": 2483,
    "start_time": "2023-02-21T14:02:38.881Z"
   },
   {
    "duration": 3014,
    "start_time": "2023-02-21T14:03:04.183Z"
   },
   {
    "duration": 2440,
    "start_time": "2023-02-21T14:04:29.463Z"
   },
   {
    "duration": 1378,
    "start_time": "2023-02-21T14:04:36.751Z"
   },
   {
    "duration": 1420,
    "start_time": "2023-02-21T14:04:50.053Z"
   },
   {
    "duration": 1998,
    "start_time": "2023-02-21T14:04:57.658Z"
   },
   {
    "duration": 2048,
    "start_time": "2023-02-21T14:05:20.032Z"
   },
   {
    "duration": 2201,
    "start_time": "2023-02-21T14:05:41.351Z"
   },
   {
    "duration": 2449,
    "start_time": "2023-02-21T14:05:50.611Z"
   },
   {
    "duration": 1105,
    "start_time": "2023-02-21T14:06:16.775Z"
   },
   {
    "duration": 1107,
    "start_time": "2023-02-21T14:06:47.315Z"
   },
   {
    "duration": 1534,
    "start_time": "2023-02-21T14:11:08.147Z"
   },
   {
    "duration": 2065,
    "start_time": "2023-02-21T14:11:17.259Z"
   },
   {
    "duration": 2254,
    "start_time": "2023-02-21T14:11:23.342Z"
   },
   {
    "duration": 2137,
    "start_time": "2023-02-21T14:11:30.439Z"
   },
   {
    "duration": 2269,
    "start_time": "2023-02-21T14:11:36.023Z"
   },
   {
    "duration": 1753,
    "start_time": "2023-02-21T14:11:47.987Z"
   },
   {
    "duration": 1629,
    "start_time": "2023-02-21T14:11:53.687Z"
   },
   {
    "duration": 1052,
    "start_time": "2023-02-21T14:12:14.777Z"
   },
   {
    "duration": 2182,
    "start_time": "2023-02-21T14:12:34.258Z"
   },
   {
    "duration": 2045,
    "start_time": "2023-02-21T14:13:23.731Z"
   },
   {
    "duration": 2025,
    "start_time": "2023-02-21T14:13:38.155Z"
   },
   {
    "duration": 1637,
    "start_time": "2023-02-21T14:14:13.618Z"
   },
   {
    "duration": 1547,
    "start_time": "2023-02-21T14:18:41.543Z"
   },
   {
    "duration": 1084,
    "start_time": "2023-02-21T14:18:51.599Z"
   },
   {
    "duration": 9,
    "start_time": "2023-02-21T14:19:00.555Z"
   },
   {
    "duration": 1137,
    "start_time": "2023-02-21T14:19:15.620Z"
   },
   {
    "duration": 1304,
    "start_time": "2023-02-21T14:19:21.339Z"
   },
   {
    "duration": 1616,
    "start_time": "2023-02-21T14:20:27.711Z"
   },
   {
    "duration": 1869,
    "start_time": "2023-02-21T14:20:42.531Z"
   },
   {
    "duration": 93,
    "start_time": "2023-02-21T14:21:39.427Z"
   },
   {
    "duration": 48,
    "start_time": "2023-02-21T14:22:23.756Z"
   },
   {
    "duration": 97,
    "start_time": "2023-02-21T14:22:36.055Z"
   },
   {
    "duration": 1090,
    "start_time": "2023-02-21T14:23:19.284Z"
   },
   {
    "duration": 1158,
    "start_time": "2023-02-21T14:23:25.012Z"
   },
   {
    "duration": 1051,
    "start_time": "2023-02-21T14:23:32.064Z"
   },
   {
    "duration": 2126,
    "start_time": "2023-02-21T14:24:04.330Z"
   },
   {
    "duration": 1123,
    "start_time": "2023-02-21T14:24:41.319Z"
   },
   {
    "duration": 950,
    "start_time": "2023-02-21T14:24:48.816Z"
   },
   {
    "duration": 1026,
    "start_time": "2023-02-21T14:25:02.244Z"
   },
   {
    "duration": 1039,
    "start_time": "2023-02-21T14:25:21.584Z"
   },
   {
    "duration": 1729,
    "start_time": "2023-02-21T14:25:29.607Z"
   },
   {
    "duration": 1644,
    "start_time": "2023-02-21T14:25:39.196Z"
   },
   {
    "duration": 1002,
    "start_time": "2023-02-21T14:26:02.436Z"
   },
   {
    "duration": 1053,
    "start_time": "2023-02-21T14:26:15.156Z"
   },
   {
    "duration": 1512,
    "start_time": "2023-02-21T14:31:11.637Z"
   },
   {
    "duration": 1403,
    "start_time": "2023-02-21T14:31:53.144Z"
   },
   {
    "duration": 877,
    "start_time": "2023-02-21T14:32:46.770Z"
   },
   {
    "duration": 1016,
    "start_time": "2023-02-21T14:32:56.721Z"
   },
   {
    "duration": 1623,
    "start_time": "2023-02-21T14:33:10.013Z"
   },
   {
    "duration": 1286,
    "start_time": "2023-02-21T14:33:34.927Z"
   },
   {
    "duration": 1270,
    "start_time": "2023-02-21T14:34:21.466Z"
   },
   {
    "duration": 1318,
    "start_time": "2023-02-21T14:34:34.362Z"
   },
   {
    "duration": 1044,
    "start_time": "2023-02-21T14:34:48.351Z"
   },
   {
    "duration": 1121,
    "start_time": "2023-02-21T14:34:57.069Z"
   },
   {
    "duration": 1220,
    "start_time": "2023-02-21T14:35:05.754Z"
   },
   {
    "duration": 1054,
    "start_time": "2023-02-21T14:35:12.725Z"
   },
   {
    "duration": 933,
    "start_time": "2023-02-21T14:35:22.265Z"
   },
   {
    "duration": 992,
    "start_time": "2023-02-21T14:35:30.846Z"
   },
   {
    "duration": 992,
    "start_time": "2023-02-21T14:35:41.086Z"
   },
   {
    "duration": 1024,
    "start_time": "2023-02-21T14:35:56.002Z"
   },
   {
    "duration": 59,
    "start_time": "2023-02-21T20:46:27.719Z"
   },
   {
    "duration": 1472,
    "start_time": "2023-02-21T20:46:33.309Z"
   },
   {
    "duration": 19086,
    "start_time": "2023-02-21T20:46:34.783Z"
   },
   {
    "duration": 8984,
    "start_time": "2023-02-21T20:46:53.871Z"
   },
   {
    "duration": 17,
    "start_time": "2023-02-21T20:47:02.857Z"
   },
   {
    "duration": 9503,
    "start_time": "2023-02-21T20:47:02.878Z"
   },
   {
    "duration": 196,
    "start_time": "2023-02-21T20:47:12.383Z"
   },
   {
    "duration": 669,
    "start_time": "2023-02-21T20:47:12.581Z"
   },
   {
    "duration": 1426,
    "start_time": "2023-02-21T20:47:13.251Z"
   },
   {
    "duration": 1699,
    "start_time": "2023-02-21T20:47:14.679Z"
   },
   {
    "duration": 1192,
    "start_time": "2023-02-21T20:47:16.380Z"
   },
   {
    "duration": 2521,
    "start_time": "2023-02-21T20:47:17.574Z"
   },
   {
    "duration": 694,
    "start_time": "2023-02-21T20:47:20.097Z"
   },
   {
    "duration": 5622,
    "start_time": "2023-02-21T20:47:20.849Z"
   },
   {
    "duration": 3,
    "start_time": "2023-02-21T20:47:26.474Z"
   },
   {
    "duration": 1591,
    "start_time": "2023-02-21T20:47:26.479Z"
   },
   {
    "duration": 326,
    "start_time": "2023-02-21T20:47:28.072Z"
   },
   {
    "duration": 2749,
    "start_time": "2023-02-21T20:47:28.449Z"
   },
   {
    "duration": 883,
    "start_time": "2023-02-21T20:47:31.199Z"
   },
   {
    "duration": 414,
    "start_time": "2023-02-21T20:47:32.085Z"
   },
   {
    "duration": 2632,
    "start_time": "2023-02-21T20:47:32.549Z"
   },
   {
    "duration": 3738,
    "start_time": "2023-02-21T20:47:35.183Z"
   },
   {
    "duration": 10,
    "start_time": "2023-02-21T20:47:47.280Z"
   },
   {
    "duration": 1971,
    "start_time": "2023-02-21T20:48:59.389Z"
   },
   {
    "duration": 8,
    "start_time": "2023-02-21T20:49:23.001Z"
   },
   {
    "duration": 6,
    "start_time": "2023-02-21T20:49:27.107Z"
   },
   {
    "duration": 8023,
    "start_time": "2023-02-21T20:49:35.925Z"
   },
   {
    "duration": 53,
    "start_time": "2023-02-21T20:50:42.368Z"
   },
   {
    "duration": 8,
    "start_time": "2023-02-21T20:56:50.098Z"
   },
   {
    "duration": 58,
    "start_time": "2023-02-21T21:00:47.622Z"
   },
   {
    "duration": 49,
    "start_time": "2023-02-21T21:01:18.455Z"
   },
   {
    "duration": 108,
    "start_time": "2023-02-22T09:56:17.093Z"
   },
   {
    "duration": 45,
    "start_time": "2023-02-22T09:56:22.403Z"
   },
   {
    "duration": 2009,
    "start_time": "2023-02-22T09:56:29.419Z"
   },
   {
    "duration": 19356,
    "start_time": "2023-02-22T09:56:31.431Z"
   },
   {
    "duration": 8774,
    "start_time": "2023-02-22T09:56:50.789Z"
   },
   {
    "duration": 71,
    "start_time": "2023-02-22T09:56:59.566Z"
   },
   {
    "duration": 9892,
    "start_time": "2023-02-22T09:56:59.640Z"
   },
   {
    "duration": 188,
    "start_time": "2023-02-22T09:57:09.534Z"
   },
   {
    "duration": 530,
    "start_time": "2023-02-22T09:57:09.724Z"
   },
   {
    "duration": 1466,
    "start_time": "2023-02-22T09:57:10.256Z"
   },
   {
    "duration": 1414,
    "start_time": "2023-02-22T09:57:11.724Z"
   },
   {
    "duration": 1107,
    "start_time": "2023-02-22T09:57:13.140Z"
   },
   {
    "duration": 2560,
    "start_time": "2023-02-22T09:57:14.249Z"
   },
   {
    "duration": 631,
    "start_time": "2023-02-22T09:57:16.811Z"
   },
   {
    "duration": 5333,
    "start_time": "2023-02-22T09:57:17.444Z"
   },
   {
    "duration": 3,
    "start_time": "2023-02-22T09:57:22.781Z"
   },
   {
    "duration": 1372,
    "start_time": "2023-02-22T09:57:22.786Z"
   },
   {
    "duration": 465,
    "start_time": "2023-02-22T09:57:24.160Z"
   },
   {
    "duration": 2500,
    "start_time": "2023-02-22T09:57:24.627Z"
   },
   {
    "duration": 927,
    "start_time": "2023-02-22T09:57:27.128Z"
   },
   {
    "duration": 433,
    "start_time": "2023-02-22T09:57:28.120Z"
   },
   {
    "duration": 2285,
    "start_time": "2023-02-22T09:57:28.555Z"
   },
   {
    "duration": 3630,
    "start_time": "2023-02-22T09:57:30.843Z"
   },
   {
    "duration": 0,
    "start_time": "2023-02-22T09:57:34.522Z"
   },
   {
    "duration": 0,
    "start_time": "2023-02-22T09:57:34.524Z"
   },
   {
    "duration": 0,
    "start_time": "2023-02-22T09:57:34.525Z"
   },
   {
    "duration": 8100,
    "start_time": "2023-02-22T10:00:21.325Z"
   },
   {
    "duration": 9,
    "start_time": "2023-02-22T10:00:33.369Z"
   },
   {
    "duration": 1247,
    "start_time": "2023-02-22T10:00:49.320Z"
   },
   {
    "duration": 15163,
    "start_time": "2023-02-22T10:00:50.569Z"
   },
   {
    "duration": 8803,
    "start_time": "2023-02-22T10:01:05.734Z"
   },
   {
    "duration": 78,
    "start_time": "2023-02-22T10:01:14.543Z"
   },
   {
    "duration": 10417,
    "start_time": "2023-02-22T10:01:14.628Z"
   },
   {
    "duration": 204,
    "start_time": "2023-02-22T10:01:25.047Z"
   },
   {
    "duration": 669,
    "start_time": "2023-02-22T10:01:25.253Z"
   },
   {
    "duration": 1226,
    "start_time": "2023-02-22T10:01:25.924Z"
   },
   {
    "duration": 1480,
    "start_time": "2023-02-22T10:01:27.152Z"
   },
   {
    "duration": 1200,
    "start_time": "2023-02-22T10:01:28.635Z"
   },
   {
    "duration": 2716,
    "start_time": "2023-02-22T10:01:29.837Z"
   },
   {
    "duration": 569,
    "start_time": "2023-02-22T10:01:32.555Z"
   },
   {
    "duration": 3922,
    "start_time": "2023-02-22T10:01:33.126Z"
   },
   {
    "duration": 2,
    "start_time": "2023-02-22T10:01:37.050Z"
   },
   {
    "duration": 1469,
    "start_time": "2023-02-22T10:01:37.054Z"
   },
   {
    "duration": 345,
    "start_time": "2023-02-22T10:01:38.525Z"
   },
   {
    "duration": 2789,
    "start_time": "2023-02-22T10:01:38.872Z"
   },
   {
    "duration": 858,
    "start_time": "2023-02-22T10:01:41.663Z"
   },
   {
    "duration": 403,
    "start_time": "2023-02-22T10:01:42.523Z"
   },
   {
    "duration": 2797,
    "start_time": "2023-02-22T10:01:42.928Z"
   },
   {
    "duration": 10215,
    "start_time": "2023-02-22T10:01:45.727Z"
   },
   {
    "duration": 78,
    "start_time": "2023-02-22T10:01:55.944Z"
   },
   {
    "duration": 921,
    "start_time": "2023-02-22T10:01:56.024Z"
   },
   {
    "duration": 110,
    "start_time": "2023-02-22T10:07:03.189Z"
   },
   {
    "duration": 1297,
    "start_time": "2023-02-22T10:07:13.726Z"
   },
   {
    "duration": 15431,
    "start_time": "2023-02-22T10:07:15.025Z"
   },
   {
    "duration": 8581,
    "start_time": "2023-02-22T10:07:30.459Z"
   },
   {
    "duration": 83,
    "start_time": "2023-02-22T10:07:39.042Z"
   },
   {
    "duration": 9117,
    "start_time": "2023-02-22T10:07:39.127Z"
   },
   {
    "duration": 194,
    "start_time": "2023-02-22T10:07:48.245Z"
   },
   {
    "duration": 518,
    "start_time": "2023-02-22T10:07:48.441Z"
   },
   {
    "duration": 1297,
    "start_time": "2023-02-22T10:07:48.961Z"
   },
   {
    "duration": 1370,
    "start_time": "2023-02-22T10:07:50.260Z"
   },
   {
    "duration": 1032,
    "start_time": "2023-02-22T10:07:51.632Z"
   },
   {
    "duration": 2219,
    "start_time": "2023-02-22T10:07:52.721Z"
   },
   {
    "duration": 500,
    "start_time": "2023-02-22T10:07:54.942Z"
   },
   {
    "duration": 3697,
    "start_time": "2023-02-22T10:07:55.444Z"
   },
   {
    "duration": 2,
    "start_time": "2023-02-22T10:07:59.144Z"
   },
   {
    "duration": 1393,
    "start_time": "2023-02-22T10:07:59.148Z"
   },
   {
    "duration": 388,
    "start_time": "2023-02-22T10:08:00.544Z"
   },
   {
    "duration": 2627,
    "start_time": "2023-02-22T10:08:00.934Z"
   },
   {
    "duration": 888,
    "start_time": "2023-02-22T10:08:03.563Z"
   },
   {
    "duration": 474,
    "start_time": "2023-02-22T10:08:04.453Z"
   },
   {
    "duration": 2203,
    "start_time": "2023-02-22T10:08:04.929Z"
   },
   {
    "duration": 10405,
    "start_time": "2023-02-22T10:08:07.134Z"
   },
   {
    "duration": 79,
    "start_time": "2023-02-22T10:08:17.542Z"
   },
   {
    "duration": 133,
    "start_time": "2023-02-22T10:08:17.623Z"
   },
   {
    "duration": 0,
    "start_time": "2023-02-22T10:08:17.757Z"
   },
   {
    "duration": 4297,
    "start_time": "2023-02-22T10:10:34.563Z"
   },
   {
    "duration": 305,
    "start_time": "2023-02-22T10:13:02.583Z"
   }
  ],
  "colab": {
   "name": "PySparkSprint.ipynb",
   "provenance": []
  },
  "kernelspec": {
   "display_name": "Python 3 (ipykernel)",
   "language": "python",
   "name": "python3"
  },
  "language_info": {
   "codemirror_mode": {
    "name": "ipython",
    "version": 3
   },
   "file_extension": ".py",
   "mimetype": "text/x-python",
   "name": "python",
   "nbconvert_exporter": "python",
   "pygments_lexer": "ipython3",
   "version": "3.9.12"
  },
  "toc": {
   "base_numbering": 1,
   "nav_menu": {},
   "number_sections": true,
   "sideBar": true,
   "skip_h1_title": true,
   "title_cell": "Table of Contents",
   "title_sidebar": "Contents",
   "toc_cell": false,
   "toc_position": {},
   "toc_section_display": true,
   "toc_window_display": false
  }
 },
 "nbformat": 4,
 "nbformat_minor": 5
}
